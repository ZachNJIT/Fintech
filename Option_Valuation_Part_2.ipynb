{
 "cells": [
  {
   "cell_type": "markdown",
   "metadata": {},
   "source": [
    "# Pricing Options using Trinomial Trees and Monte Carlo Simulation\n",
    "## followed by other applications (Delta Hedging, Option \"Greeks\", Implied Volatility)\n",
    "## Zach Barnhart"
   ]
  },
  {
   "cell_type": "markdown",
   "metadata": {},
   "source": [
    "### First we copy all our results from the first part, since we will build on these classes"
   ]
  },
  {
   "cell_type": "markdown",
   "metadata": {},
   "source": [
    "## StockOption base class"
   ]
  },
  {
   "cell_type": "code",
   "execution_count": 1,
   "metadata": {},
   "outputs": [],
   "source": [
    "import math\n",
    "\n",
    "# The basic stock option class that will serve as the basis for more specific subclasses\n",
    "# Contains all the basic attibutes and methods common to all options\n",
    "class StockOption(object):\n",
    "    def __init__(self, s_0, K, r=0.04, T=1, N=2, pu=0, pd=0, div=0, sigma=0, is_put=False, is_am=False):\n",
    "        \"\"\"\n",
    "        Initialize the stock option base class.\n",
    "        Defaults to European call unless specified.\n",
    "\n",
    "        :param s_0: initial stock price\n",
    "        :param K: strike price\n",
    "        :param r: risk-free rate\n",
    "        :param T: time to expiration\n",
    "        :param N: number of time steps\n",
    "        :param pu: percentage increase in up state\n",
    "        :param pd: percentage increase in down state\n",
    "        :param div: Dividend yield (we don't use this year, but we will in future papers)\n",
    "        :param is_put: True for a put option, False for a call option\n",
    "        :param is_am: True for an American option, False for a European option\n",
    "        \"\"\"\n",
    "        \n",
    "        self.s_0 = s_0\n",
    "        self.K = K\n",
    "        self.r = r\n",
    "        self.T = T\n",
    "        self.N = max(1, N)\n",
    "        self.STs = [] # Declare the stock prices tree\n",
    "\n",
    "        \"\"\" Optional parameters used by derived classes \"\"\"\n",
    "        self.pu, self.pd = pu, pd\n",
    "        self.div = div\n",
    "        self.sigma = sigma\n",
    "        self.is_call = not is_put\n",
    "        self.is_european = not is_am\n",
    "\n",
    "    @property\n",
    "    def dt(self):\n",
    "        \"\"\" Single time step, in years \"\"\"\n",
    "        return self.T / float(self.N)\n",
    "\n",
    "    @property\n",
    "    def df(self):\n",
    "        \"\"\" The discount factor \"\"\"\n",
    "        return math.exp(-(self.r-self.div)*self.dt)  "
   ]
  },
  {
   "cell_type": "markdown",
   "metadata": {},
   "source": [
    "## European options using a binomial tree"
   ]
  },
  {
   "cell_type": "code",
   "execution_count": 2,
   "metadata": {},
   "outputs": [],
   "source": [
    "import numpy as np\n",
    "from decimal import Decimal\n",
    "\n",
    "# Price a basic European option using the binomial tree model \n",
    "class BinomialEuropeanOption(StockOption):\n",
    "\n",
    "    def setup_parameters(self):\n",
    "        # Required calculations for the model\n",
    "        self.M = self.N + 1  # Number of terminal nodes of tree\n",
    "        self.u = 1 + self.pu  # Expected value in the up state\n",
    "        self.d = 1 - self.pd  # Expected value in the down state\n",
    "        self.qu = (math.exp((self.r-self.div)*self.dt)-self.d)/(self.u-self.d)\n",
    "        self.qd = 1 - self.qu\n",
    "\n",
    "    def init_underlying_price_tree(self):\n",
    "        # Initialize terminal price nodes to zeros\n",
    "        self.STs = np.zeros(self.M)\n",
    "\n",
    "        # Calculate expected stock prices for each node\n",
    "        for i in range(self.M):\n",
    "            self.STs[i] = self.s_0 * (self.u**(self.N-i)) * (self.d**i)\n",
    "\n",
    "    def init_payoffs_tree(self):\n",
    "        \"\"\"\n",
    "        Returns the payoffs when the option expires at terminal nodes\n",
    "        \"\"\" \n",
    "        if self.is_call:\n",
    "            return np.maximum(0, self.STs - self.K)\n",
    "        else:\n",
    "            return np.maximum(0, self.K - self.STs)\n",
    "\n",
    "    def calculate_payoffs(self, payoffs):\n",
    "        \"\"\"\n",
    "        Starting from the time the option expires, traverse backwards and calculate discounted payoffs at each node\n",
    "        \"\"\"\n",
    "        for i in range(self.N):\n",
    "            payoffs = (payoffs[:-1] * self.qu + payoffs[1:] * self.qd) * self.df\n",
    "\n",
    "        return payoffs\n",
    "\n",
    "    def begin_tree_traversal(self):\n",
    "        payoffs = self.init_payoffs_tree()\n",
    "        return self.calculate_payoffs(payoffs)\n",
    "\n",
    "    def price(self):\n",
    "        \"\"\" Entry point of the pricing implementation \"\"\"\n",
    "        self.setup_parameters()\n",
    "        self.init_underlying_price_tree()\n",
    "        payoffs = self.begin_tree_traversal()\n",
    "\n",
    "        # Option value converges to first node\n",
    "        return payoffs[0]"
   ]
  },
  {
   "cell_type": "code",
   "execution_count": 3,
   "metadata": {},
   "outputs": [
    {
     "data": {
      "text/plain": [
       "20.771399051264964"
      ]
     },
     "execution_count": 3,
     "metadata": {},
     "output_type": "execute_result"
    }
   ],
   "source": [
    "BinomialEuropeanOption(30, 55, r=0.04, T=2, N=2, pu=0.2, pd=0.2, is_put=True).price()"
   ]
  },
  {
   "cell_type": "markdown",
   "metadata": {},
   "source": [
    "## American options using a binomial tree\n",
    "### (Class can handle both types)"
   ]
  },
  {
   "cell_type": "code",
   "execution_count": 42,
   "metadata": {},
   "outputs": [],
   "source": [
    "#Price a European or American option by the binomial tree \n",
    "\n",
    "class BinomialTreeOption(StockOption):\n",
    "\n",
    "    def setup_parameters(self):\n",
    "        self.u = 1 + self.pu  # Expected value in the up state\n",
    "        self.d = 1 - self.pd  # Expected value in the down state\n",
    "        self.qu = (math.exp((self.r - self.div) *  self.dt) - self.d) / (self.u - self.d)\n",
    "        self.qd = 1 - self.qu\n",
    "\n",
    "    def init_underlying_price_tree(self):\n",
    "        # Initialize a tree to add to\n",
    "        self.STs = [np.array([self.s_0])]\n",
    "\n",
    "        # Simulate the possible stock prices path\n",
    "        for i in range(self.N):\n",
    "            prev_branches = self.STs[-1]\n",
    "            st = np.concatenate((prev_branches * self.u, [prev_branches[-1] * self.d]))\n",
    "            self.STs.append(st) # Add nodes at each time step\n",
    "\n",
    "    def init_payoffs_tree(self):\n",
    "        if self.is_call:\n",
    "            return np.maximum(0, self.STs[self.N] - self.K)\n",
    "        else:\n",
    "            return np.maximum(0, self.K - self.STs[self.N])\n",
    "\n",
    "    def check_early_exercise(self, payoffs, node):\n",
    "        if self.is_call:\n",
    "            return np.maximum(payoffs, self.STs[node] - self.K)\n",
    "        else:\n",
    "            return np.maximum(payoffs, self.K - self.STs[node])\n",
    "\n",
    "    def calculate_payoffs(self, payoffs):\n",
    "        for i in reversed(range(self.N)):\n",
    "            # The payoffs from NOT exercising the option\n",
    "            payoffs = (payoffs[:-1] * self.qu + payoffs[1:] * self.qd) * self.df\n",
    "\n",
    "            # Payoffs from exercising, for American options\n",
    "            if not self.is_european:\n",
    "                payoffs = self.check_early_exercise(payoffs, i)\n",
    "\n",
    "        return payoffs\n",
    "\n",
    "    def begin_tree_traversal(self):\n",
    "        payoffs = self.init_payoffs_tree()\n",
    "        return self.calculate_payoffs(payoffs)\n",
    "\n",
    "    def price(self):\n",
    "        \"\"\"  The pricing implementation \"\"\"\n",
    "        self.setup_parameters()\n",
    "        self.init_underlying_price_tree()\n",
    "        payoffs = self.begin_tree_traversal()\n",
    "        return payoffs[0]"
   ]
  },
  {
   "cell_type": "code",
   "execution_count": 43,
   "metadata": {},
   "outputs": [],
   "source": [
    "am_option = BinomialTreeOption(50, 52, r=0.04, T=2, N=200, pu=0.2, pd=0.2, is_put=True, is_am=True)"
   ]
  },
  {
   "cell_type": "code",
   "execution_count": 44,
   "metadata": {},
   "outputs": [
    {
     "name": "stdout",
     "output_type": "stream",
     "text": [
      "American put option price is: 41.71188633590327\n"
     ]
    }
   ],
   "source": [
    "print(\"American put option price is:\", am_option.price())"
   ]
  },
  {
   "cell_type": "markdown",
   "metadata": {},
   "source": [
    "## The Cox-Ross-Rubinstein model"
   ]
  },
  {
   "cell_type": "markdown",
   "metadata": {},
   "source": [
    "### A class for Cox-Ross-Rubinstein binomial tree option pricing model"
   ]
  },
  {
   "cell_type": "code",
   "execution_count": 7,
   "metadata": {},
   "outputs": [],
   "source": [
    "# Price an option by the binomial CRR model \n",
    "class BinomialCRROption(BinomialTreeOption):\n",
    "    def setup_parameters(self):\n",
    "        self.u = math.exp(self.sigma * math.sqrt(self.dt))\n",
    "        self.d = 1. / self.u\n",
    "        self.qu = (math.exp((self.r - self.div) * self.dt) - self.d) / (self.u - self.d)\n",
    "        self.qd = 1 - self.qu"
   ]
  },
  {
   "cell_type": "code",
   "execution_count": 8,
   "metadata": {},
   "outputs": [
    {
     "data": {
      "text/plain": [
       "4.766499908855962"
      ]
     },
     "execution_count": 8,
     "metadata": {},
     "output_type": "execute_result"
    }
   ],
   "source": [
    "BinomialCRROption(50, 52, r=0.04, T=0.5, N=1008, sigma=0.3, is_put=True).price()"
   ]
  },
  {
   "cell_type": "markdown",
   "metadata": {},
   "source": [
    "## Using a Leisen-Reimer (LR) tree"
   ]
  },
  {
   "cell_type": "markdown",
   "metadata": {},
   "source": [
    "### A class for LR binomial tree option pricing model"
   ]
  },
  {
   "cell_type": "code",
   "execution_count": 9,
   "metadata": {},
   "outputs": [],
   "source": [
    "# Price an option by the Leisen-Reimer model\n",
    "class BinomialLROption(BinomialTreeOption):\n",
    "\n",
    "    def setup_parameters(self):\n",
    "        odd_N = self.N if (self.N % 2 == 0) else (self.N + 1)\n",
    "        d1 = (math.log(self.s_0 / self.K) + ((self.r-self.div) + (self.sigma**2) / 2.) * self.T)/ (self.sigma * math.sqrt(self.T))\n",
    "        d2 = (math.log(self.s_0 / self.K) +((self.r - self.div) - (self.sigma**2) / 2.) * self.T) / (self.sigma * math.sqrt(self.T))\n",
    "\n",
    "        pbar = self.pp_2_inversion(d1, odd_N)\n",
    "        self.p = self.pp_2_inversion(d2, odd_N)\n",
    "        self.u = 1 / self.df * pbar / self.p\n",
    "        self.d = (1 / self.df - self.p * self.u) / (1 - self.p)\n",
    "        self.qu = self.p\n",
    "        self.qd = 1 - self.p\n",
    "\n",
    "    def pp_2_inversion(self, z, n):\n",
    "        return .5 + math.copysign(1, z) * math.sqrt(.25 - .25 * math.exp(-((z / (n + 1./3. + .1/(n+1)))**2.) * (n+1./6.)))"
   ]
  },
  {
   "cell_type": "code",
   "execution_count": 10,
   "metadata": {},
   "outputs": [
    {
     "data": {
      "text/plain": [
       "20.986880225025804"
      ]
     },
     "execution_count": 10,
     "metadata": {},
     "output_type": "execute_result"
    }
   ],
   "source": [
    "BinomialLROption(30, 52, r=0.04, T=0.5, N=1008, sigma=0.3, is_put=True).price()"
   ]
  },
  {
   "cell_type": "markdown",
   "metadata": {},
   "source": [
    "### Black-Scholes Formula"
   ]
  },
  {
   "cell_type": "code",
   "execution_count": 11,
   "metadata": {},
   "outputs": [],
   "source": [
    "from scipy.stats import norm\n",
    "\n",
    "def black_scholes_analytical(S_0, K, T, r, sigma, is_put=False):\n",
    "    '''\n",
    "    Function used for calculating the price of European call option using the analytical form of the Black-Scholes model.\n",
    "    \n",
    "    Parameters\n",
    "    ------------\n",
    "    s_0 : Initial stock price\n",
    "    K : Strike price\n",
    "    T : Time to maturity in years\n",
    "    r : float\n",
    "        Annualized risk-free rate\n",
    "    sigma : float\n",
    "        Standard deviation of the stock returns\n",
    "    type : str\n",
    "        Type of the option. Allowable: ['call', 'put']\n",
    "    \n",
    "    Returns\n",
    "    -----------\n",
    "    option_premium : float\n",
    "        The premium on the option calculated using the Black-Scholes model\n",
    "    '''\n",
    "    \n",
    "    d1 = (np.log(S_0 / K) + (r + 0.5 * sigma ** 2) * T) / (sigma * np.sqrt(T))\n",
    "    d2 = (np.log(S_0 / K) + (r - 0.5 * sigma ** 2) * T) / (sigma * np.sqrt(T))\n",
    "    \n",
    "    if not is_put:\n",
    "        val = (S_0 * norm.cdf(d1, 0, 1) - K * np.exp(-r * T) * norm.cdf(d2, 0, 1))\n",
    "    else:\n",
    "        val = (K * np.exp(-r * T) * norm.cdf(-d2, 0, 1) - S_0 * norm.cdf(-d1, 0, 1))\n",
    "        \n",
    "    return val"
   ]
  },
  {
   "cell_type": "code",
   "execution_count": 86,
   "metadata": {},
   "outputs": [
    {
     "data": {
      "text/plain": [
       "40.97033101195128"
      ]
     },
     "execution_count": 86,
     "metadata": {},
     "output_type": "execute_result"
    }
   ],
   "source": [
    "black_scholes_analytical(S_0=10,K=52,T=0.5,r=0.04, sigma=0.3, is_put=True)"
   ]
  },
  {
   "cell_type": "code",
   "execution_count": 13,
   "metadata": {},
   "outputs": [
    {
     "data": {
      "text/plain": [
       "11.858479856107131"
      ]
     },
     "execution_count": 13,
     "metadata": {},
     "output_type": "execute_result"
    }
   ],
   "source": [
    "BinomialCRROption(180, 52, r=0.04, T=0.5, N=1008, sigma=2, is_put=True).price()"
   ]
  },
  {
   "cell_type": "code",
   "execution_count": 14,
   "metadata": {},
   "outputs": [
    {
     "data": {
      "text/plain": [
       "11.851464583868397"
      ]
     },
     "execution_count": 14,
     "metadata": {},
     "output_type": "execute_result"
    }
   ],
   "source": [
    "BinomialLROption(180, 52, r=0.04, T=0.5, N=1008, sigma=2, is_put=True).price()"
   ]
  },
  {
   "cell_type": "code",
   "execution_count": 15,
   "metadata": {},
   "outputs": [
    {
     "data": {
      "text/plain": [
       "11.865099031024723"
      ]
     },
     "execution_count": 15,
     "metadata": {},
     "output_type": "execute_result"
    }
   ],
   "source": [
    "black_scholes_analytical(S_0=180,K=52,T=0.5,r=0.04, sigma=2, is_put=True)"
   ]
  },
  {
   "cell_type": "markdown",
   "metadata": {},
   "source": [
    "## Produce American vs. European graphs"
   ]
  },
  {
   "cell_type": "code",
   "execution_count": 16,
   "metadata": {},
   "outputs": [],
   "source": [
    "def putValue(s_0, K):\n",
    "    return np.maximum(K-s_0, 0)\n",
    "\n",
    "def callValue(s_0, K):\n",
    "    return np.maximum(s_0-K, 0)"
   ]
  },
  {
   "cell_type": "code",
   "execution_count": 17,
   "metadata": {},
   "outputs": [],
   "source": [
    "x = np.linspace(0.00000000001,60,1000)"
   ]
  },
  {
   "cell_type": "code",
   "execution_count": 18,
   "metadata": {},
   "outputs": [],
   "source": [
    "import matplotlib.pyplot as plt\n",
    "from matplotlib.pyplot import figure"
   ]
  },
  {
   "cell_type": "code",
   "execution_count": 19,
   "metadata": {},
   "outputs": [],
   "source": [
    "y_euc = [BinomialLROption(i, 32, r=0.04, T=0.5, N=1008, sigma=0.3, is_put=True).price() for i in x]"
   ]
  },
  {
   "cell_type": "code",
   "execution_count": 20,
   "metadata": {},
   "outputs": [],
   "source": [
    "y_amc = [BinomialLROption(i, 32, r=0.04, T=0.5, N=1008, sigma=0.3, is_put=True, is_am=True).price() for i in x]"
   ]
  },
  {
   "cell_type": "code",
   "execution_count": 21,
   "metadata": {},
   "outputs": [
    {
     "data": {
      "image/png": "[encoded data removed]",
      "text/plain": [
       "<Figure size 720x720 with 1 Axes>"
      ]
     },
     "metadata": {
      "needs_background": "light"
     },
     "output_type": "display_data"
    }
   ],
   "source": [
    "figure(figsize=(10,10))\n",
    "plt.plot(x,putValue(s_0=x,K=32), label=\"Intrinsic\")\n",
    "plt.plot(x,y_euc, label=\"European\")\n",
    "plt.plot(x,y_amc, label=\"American\", ls=\"--\")\n",
    "plt.legend()\n",
    "plt.xlabel(\"Spot Price\")\n",
    "plt.ylabel(\"Option Value\")\n",
    "plt.savefig(\"puts.png\")\n",
    "plt.show()"
   ]
  },
  {
   "cell_type": "code",
   "execution_count": 22,
   "metadata": {},
   "outputs": [],
   "source": [
    "x = np.linspace(0.00000000001,60,1000)"
   ]
  },
  {
   "cell_type": "code",
   "execution_count": 23,
   "metadata": {},
   "outputs": [],
   "source": [
    "y_eup = [BinomialLROption(i, 32, r=0.04, T=0.5, N=1008, sigma=0.3, is_put=False).price() for i in x]"
   ]
  },
  {
   "cell_type": "code",
   "execution_count": 24,
   "metadata": {},
   "outputs": [],
   "source": [
    "y_amp = [BinomialLROption(i, 32, r=0.04, T=0.5, N=1008, sigma=0.3, is_put=False, is_am=True).price() for i in x]"
   ]
  },
  {
   "cell_type": "code",
   "execution_count": 25,
   "metadata": {},
   "outputs": [
    {
     "data": {
      "image/png": "[encoded data removed]",
      "text/plain": [
       "<Figure size 720x720 with 1 Axes>"
      ]
     },
     "metadata": {
      "needs_background": "light"
     },
     "output_type": "display_data"
    }
   ],
   "source": [
    "figure(figsize=(10,10))\n",
    "plt.plot(x,callValue(s_0=x,K=32), label=\"Intrinsic\")\n",
    "plt.plot(x,y_eup, label=\"European\")\n",
    "plt.plot(x,y_amp, label=\"American\", ls=\"--\")\n",
    "plt.legend()\n",
    "plt.xlabel(\"Spot Price\")\n",
    "plt.ylabel(\"Option Value\")\n",
    "plt.savefig(\"calls.png\")\n",
    "plt.show()"
   ]
  },
  {
   "cell_type": "markdown",
   "metadata": {},
   "source": [
    "# NEW STUFF FOR PART 2 FROM HERE ONWARD"
   ]
  },
  {
   "cell_type": "markdown",
   "metadata": {},
   "source": [
    "# Trinomial Trees"
   ]
  },
  {
   "cell_type": "code",
   "execution_count": 68,
   "metadata": {},
   "outputs": [],
   "source": [
    "class TrinomialTreeOption(BinomialTreeOption):\n",
    "\n",
    "    def setup_parameters(self):\n",
    "        self.u = math.exp(self.sigma*math.sqrt(2.*self.dt))\n",
    "        self.d = 1/self.u\n",
    "        self.m = 1\n",
    "        self.qu = ((math.exp((self.r-self.div) * self.dt/2.) - math.exp(-self.sigma * math.sqrt(self.dt/2.))) /\n",
    "                   (math.exp(self.sigma * math.sqrt(self.dt/2.)) - math.exp(-self.sigma * math.sqrt(self.dt/2.))))**2\n",
    "        self.qd = ((math.exp(self.sigma * math.sqrt(self.dt/2.)) - math.exp((self.r-self.div) * self.dt/2.)) /\n",
    "                   (math.exp(self.sigma * math.sqrt(self.dt/2.)) - math.exp(-self.sigma * math.sqrt(self.dt/2.))))**2\n",
    "        self.qm = 1 - self.qu - self.qd\n",
    "\n",
    "    def init_underlying_price_tree(self):\n",
    "        # Initialize a 2D tree to add to\n",
    "        self.STs = [np.array([self.s_0])]\n",
    "\n",
    "        for i in range(self.N):\n",
    "            prev_nodes = self.STs[-1]\n",
    "            self.ST = np.concatenate((prev_nodes * self.u, [prev_nodes[-1] * self.m, prev_nodes[-1] * self.d]))\n",
    "            self.STs.append(self.ST)\n",
    "\n",
    "    def calculate_payoffs(self, payoffs):\n",
    "        # Traverse the tree backwards \n",
    "        for i in reversed(range(self.N)):\n",
    "            payoffs = (payoffs[:-2] * self.qu + payoffs[1:-1] * self.qm + payoffs[2:] * self.qd) * self.df\n",
    "\n",
    "            if not self.is_european:\n",
    "                payoffs = self.check_early_exercise(payoffs, i)\n",
    "\n",
    "        return payoffs"
   ]
  },
  {
   "cell_type": "code",
   "execution_count": 69,
   "metadata": {},
   "outputs": [],
   "source": [
    "eu_put = TrinomialTreeOption(50, 52, r=0.05, T=2, N=2, sigma=0.3, is_put=True)"
   ]
  },
  {
   "cell_type": "code",
   "execution_count": 70,
   "metadata": {},
   "outputs": [
    {
     "name": "stdout",
     "output_type": "stream",
     "text": [
      "European put: 6.573565269142496\n"
     ]
    }
   ],
   "source": [
    "print('European put:', eu_put.price())"
   ]
  },
  {
   "cell_type": "code",
   "execution_count": 40,
   "metadata": {},
   "outputs": [],
   "source": [
    "am_option = TrinomialTreeOption(50, 52, r=0.05, T=2, N=2, sigma=0.3, is_put=True, is_am=True)"
   ]
  },
  {
   "cell_type": "code",
   "execution_count": 41,
   "metadata": {},
   "outputs": [
    {
     "name": "stdout",
     "output_type": "stream",
     "text": [
      "American put: 7.161349217272585\n"
     ]
    }
   ],
   "source": [
    "print('American put:', am_option.price())"
   ]
  },
  {
   "cell_type": "markdown",
   "metadata": {},
   "source": [
    "## Generating a table of trinomial option prices"
   ]
  },
  {
   "cell_type": "code",
   "execution_count": 72,
   "metadata": {},
   "outputs": [],
   "source": [
    "prices = [10, 30, 50, 70, 90]\n",
    "is_put = [False, True]\n",
    "is_am = [False, True]"
   ]
  },
  {
   "cell_type": "code",
   "execution_count": 103,
   "metadata": {},
   "outputs": [],
   "source": [
    "import pandas as pd\n",
    "\n",
    "rows_list = []\n",
    "for style in is_am:\n",
    "    for opt_type in is_put:\n",
    "        row = {}\n",
    "        row['is_am']=style\n",
    "        row['is_put']=opt_type\n",
    "        for price in prices:\n",
    "            col = str(price)\n",
    "            row[col] = BinomialCRROption(price, 52, r=0.04, T=0.5, N=6, sigma=1, is_put=opt_type, is_am=style).price()\n",
    "        rows_list.append(row)\n",
    "        \n",
    "        \n",
    "opt_prices = pd.DataFrame(rows_list)"
   ]
  },
  {
   "cell_type": "code",
   "execution_count": 104,
   "metadata": {},
   "outputs": [
    {
     "data": {
      "text/html": [
       "<div>\n",
       "<style scoped>\n",
       "    .dataframe tbody tr th:only-of-type {\n",
       "        vertical-align: middle;\n",
       "    }\n",
       "\n",
       "    .dataframe tbody tr th {\n",
       "        vertical-align: top;\n",
       "    }\n",
       "\n",
       "    .dataframe thead th {\n",
       "        text-align: right;\n",
       "    }\n",
       "</style>\n",
       "<table border=\"1\" class=\"dataframe\">\n",
       "  <thead>\n",
       "    <tr style=\"text-align: right;\">\n",
       "      <th></th>\n",
       "      <th>is_am</th>\n",
       "      <th>is_put</th>\n",
       "      <th>10</th>\n",
       "      <th>30</th>\n",
       "      <th>50</th>\n",
       "      <th>70</th>\n",
       "      <th>90</th>\n",
       "    </tr>\n",
       "  </thead>\n",
       "  <tbody>\n",
       "    <tr>\n",
       "      <th>0</th>\n",
       "      <td>False</td>\n",
       "      <td>False</td>\n",
       "      <td>0.029635</td>\n",
       "      <td>3.225469</td>\n",
       "      <td>13.174447</td>\n",
       "      <td>28.354095</td>\n",
       "      <td>44.114929</td>\n",
       "    </tr>\n",
       "    <tr>\n",
       "      <th>1</th>\n",
       "      <td>False</td>\n",
       "      <td>True</td>\n",
       "      <td>40.999966</td>\n",
       "      <td>24.195800</td>\n",
       "      <td>14.144778</td>\n",
       "      <td>9.324426</td>\n",
       "      <td>5.085260</td>\n",
       "    </tr>\n",
       "    <tr>\n",
       "      <th>2</th>\n",
       "      <td>True</td>\n",
       "      <td>False</td>\n",
       "      <td>0.029635</td>\n",
       "      <td>3.225469</td>\n",
       "      <td>13.174447</td>\n",
       "      <td>28.354095</td>\n",
       "      <td>44.114929</td>\n",
       "    </tr>\n",
       "    <tr>\n",
       "      <th>3</th>\n",
       "      <td>True</td>\n",
       "      <td>True</td>\n",
       "      <td>42.000000</td>\n",
       "      <td>24.526709</td>\n",
       "      <td>14.353000</td>\n",
       "      <td>9.389724</td>\n",
       "      <td>5.150558</td>\n",
       "    </tr>\n",
       "  </tbody>\n",
       "</table>\n",
       "</div>"
      ],
      "text/plain": [
       "   is_am  is_put         10         30         50         70         90\n",
       "0  False   False   0.029635   3.225469  13.174447  28.354095  44.114929\n",
       "1  False    True  40.999966  24.195800  14.144778   9.324426   5.085260\n",
       "2   True   False   0.029635   3.225469  13.174447  28.354095  44.114929\n",
       "3   True    True  42.000000  24.526709  14.353000   9.389724   5.150558"
      ]
     },
     "execution_count": 104,
     "metadata": {},
     "output_type": "execute_result"
    }
   ],
   "source": [
    "opt_prices"
   ]
  },
  {
   "cell_type": "code",
   "execution_count": 99,
   "metadata": {},
   "outputs": [],
   "source": [
    "rows_list = []\n",
    "for style in is_am:\n",
    "    for opt_type in is_put:\n",
    "        row = {}\n",
    "        row['is_am']=style\n",
    "        row['is_put']=opt_type\n",
    "        for price in prices:\n",
    "            col = str(price)\n",
    "            row[col] = TrinomialTreeOption(price, 52, r=0.04, T=0.5, N=6, sigma=1, is_put=opt_type, is_am=style).price()\n",
    "        rows_list.append(row)\n",
    "        \n",
    "        \n",
    "opt_prices_tri = pd.DataFrame(rows_list)"
   ]
  },
  {
   "cell_type": "code",
   "execution_count": 100,
   "metadata": {},
   "outputs": [
    {
     "data": {
      "text/html": [
       "<div>\n",
       "<style scoped>\n",
       "    .dataframe tbody tr th:only-of-type {\n",
       "        vertical-align: middle;\n",
       "    }\n",
       "\n",
       "    .dataframe tbody tr th {\n",
       "        vertical-align: top;\n",
       "    }\n",
       "\n",
       "    .dataframe thead th {\n",
       "        text-align: right;\n",
       "    }\n",
       "</style>\n",
       "<table border=\"1\" class=\"dataframe\">\n",
       "  <thead>\n",
       "    <tr style=\"text-align: right;\">\n",
       "      <th></th>\n",
       "      <th>is_am</th>\n",
       "      <th>is_put</th>\n",
       "      <th>10</th>\n",
       "      <th>30</th>\n",
       "      <th>50</th>\n",
       "      <th>70</th>\n",
       "      <th>90</th>\n",
       "    </tr>\n",
       "  </thead>\n",
       "  <tbody>\n",
       "    <tr>\n",
       "      <th>0</th>\n",
       "      <td>False</td>\n",
       "      <td>False</td>\n",
       "      <td>0.031336</td>\n",
       "      <td>3.580736</td>\n",
       "      <td>13.372588</td>\n",
       "      <td>27.964310</td>\n",
       "      <td>44.674664</td>\n",
       "    </tr>\n",
       "    <tr>\n",
       "      <th>1</th>\n",
       "      <td>False</td>\n",
       "      <td>True</td>\n",
       "      <td>41.001667</td>\n",
       "      <td>24.551067</td>\n",
       "      <td>14.342919</td>\n",
       "      <td>8.934641</td>\n",
       "      <td>5.644995</td>\n",
       "    </tr>\n",
       "    <tr>\n",
       "      <th>2</th>\n",
       "      <td>True</td>\n",
       "      <td>False</td>\n",
       "      <td>0.031336</td>\n",
       "      <td>3.580736</td>\n",
       "      <td>13.372588</td>\n",
       "      <td>27.964310</td>\n",
       "      <td>44.674664</td>\n",
       "    </tr>\n",
       "    <tr>\n",
       "      <th>3</th>\n",
       "      <td>True</td>\n",
       "      <td>True</td>\n",
       "      <td>42.000000</td>\n",
       "      <td>24.820136</td>\n",
       "      <td>14.470768</td>\n",
       "      <td>8.990804</td>\n",
       "      <td>5.662706</td>\n",
       "    </tr>\n",
       "  </tbody>\n",
       "</table>\n",
       "</div>"
      ],
      "text/plain": [
       "   is_am  is_put         10         30         50         70         90\n",
       "0  False   False   0.031336   3.580736  13.372588  27.964310  44.674664\n",
       "1  False    True  41.001667  24.551067  14.342919   8.934641   5.644995\n",
       "2   True   False   0.031336   3.580736  13.372588  27.964310  44.674664\n",
       "3   True    True  42.000000  24.820136  14.470768   8.990804   5.662706"
      ]
     },
     "execution_count": 100,
     "metadata": {},
     "output_type": "execute_result"
    }
   ],
   "source": [
    "opt_prices_tri"
   ]
  },
  {
   "cell_type": "code",
   "execution_count": 107,
   "metadata": {},
   "outputs": [],
   "source": [
    "rows_list = []\n",
    "for opt_type in is_put:\n",
    "    row = {}\n",
    "    row['is_put']=opt_type\n",
    "    for price in prices:\n",
    "        col = str(price)\n",
    "        row[col] = black_scholes_analytical(price, K=52, r=0.04, T=0.5, sigma=1, is_put=opt_type)\n",
    "    rows_list.append(row)\n",
    "        \n",
    "        \n",
    "opt_prices_bs = pd.DataFrame(rows_list)"
   ]
  },
  {
   "cell_type": "code",
   "execution_count": 108,
   "metadata": {},
   "outputs": [
    {
     "data": {
      "text/html": [
       "<div>\n",
       "<style scoped>\n",
       "    .dataframe tbody tr th:only-of-type {\n",
       "        vertical-align: middle;\n",
       "    }\n",
       "\n",
       "    .dataframe tbody tr th {\n",
       "        vertical-align: top;\n",
       "    }\n",
       "\n",
       "    .dataframe thead th {\n",
       "        text-align: right;\n",
       "    }\n",
       "</style>\n",
       "<table border=\"1\" class=\"dataframe\">\n",
       "  <thead>\n",
       "    <tr style=\"text-align: right;\">\n",
       "      <th></th>\n",
       "      <th>is_put</th>\n",
       "      <th>10</th>\n",
       "      <th>30</th>\n",
       "      <th>50</th>\n",
       "      <th>70</th>\n",
       "      <th>90</th>\n",
       "    </tr>\n",
       "  </thead>\n",
       "  <tbody>\n",
       "    <tr>\n",
       "      <th>0</th>\n",
       "      <td>False</td>\n",
       "      <td>0.055021</td>\n",
       "      <td>3.501070</td>\n",
       "      <td>13.470160</td>\n",
       "      <td>27.798794</td>\n",
       "      <td>44.538811</td>\n",
       "    </tr>\n",
       "    <tr>\n",
       "      <th>1</th>\n",
       "      <td>True</td>\n",
       "      <td>41.025352</td>\n",
       "      <td>24.471401</td>\n",
       "      <td>14.440491</td>\n",
       "      <td>8.769125</td>\n",
       "      <td>5.509142</td>\n",
       "    </tr>\n",
       "  </tbody>\n",
       "</table>\n",
       "</div>"
      ],
      "text/plain": [
       "   is_put         10         30         50         70         90\n",
       "0   False   0.055021   3.501070  13.470160  27.798794  44.538811\n",
       "1    True  41.025352  24.471401  14.440491   8.769125   5.509142"
      ]
     },
     "execution_count": 108,
     "metadata": {},
     "output_type": "execute_result"
    }
   ],
   "source": [
    "opt_prices_bs"
   ]
  },
  {
   "cell_type": "code",
   "execution_count": 109,
   "metadata": {},
   "outputs": [],
   "source": [
    "is_tri = [False, True]\n",
    "N_steps = [6, 126, 252, 1008]"
   ]
  },
  {
   "cell_type": "code",
   "execution_count": 124,
   "metadata": {},
   "outputs": [],
   "source": [
    "rows_list = []\n",
    "for price in prices:\n",
    "    for bt in is_tri:\n",
    "        row = {}\n",
    "        row['price'] = price\n",
    "        row['is_tri']=bt\n",
    "        for N_step in N_steps:\n",
    "            col = str(N_step)\n",
    "            if bt:\n",
    "                row[col] = TrinomialTreeOption(price, 52, r=0.04, T=0.5, N=N_step, sigma=1, is_put=False, is_am=True).price()\n",
    "            else:\n",
    "                row[col] = BinomialCRROption(price, 52, r=0.04, T=0.5, N=N_step, sigma=1, is_put=False, is_am=True).price()\n",
    "        rows_list.append(row)\n",
    "        \n",
    "        \n",
    "opt_prices_btcall = pd.DataFrame(rows_list)"
   ]
  },
  {
   "cell_type": "code",
   "execution_count": 125,
   "metadata": {},
   "outputs": [
    {
     "data": {
      "text/html": [
       "<div>\n",
       "<style scoped>\n",
       "    .dataframe tbody tr th:only-of-type {\n",
       "        vertical-align: middle;\n",
       "    }\n",
       "\n",
       "    .dataframe tbody tr th {\n",
       "        vertical-align: top;\n",
       "    }\n",
       "\n",
       "    .dataframe thead th {\n",
       "        text-align: right;\n",
       "    }\n",
       "</style>\n",
       "<table border=\"1\" class=\"dataframe\">\n",
       "  <thead>\n",
       "    <tr style=\"text-align: right;\">\n",
       "      <th></th>\n",
       "      <th>price</th>\n",
       "      <th>is_tri</th>\n",
       "      <th>6</th>\n",
       "      <th>126</th>\n",
       "      <th>252</th>\n",
       "      <th>1008</th>\n",
       "    </tr>\n",
       "  </thead>\n",
       "  <tbody>\n",
       "    <tr>\n",
       "      <th>0</th>\n",
       "      <td>10</td>\n",
       "      <td>False</td>\n",
       "      <td>0.029635</td>\n",
       "      <td>0.053063</td>\n",
       "      <td>0.054643</td>\n",
       "      <td>0.054727</td>\n",
       "    </tr>\n",
       "    <tr>\n",
       "      <th>1</th>\n",
       "      <td>10</td>\n",
       "      <td>True</td>\n",
       "      <td>0.031336</td>\n",
       "      <td>0.054643</td>\n",
       "      <td>0.054642</td>\n",
       "      <td>0.054962</td>\n",
       "    </tr>\n",
       "    <tr>\n",
       "      <th>2</th>\n",
       "      <td>30</td>\n",
       "      <td>False</td>\n",
       "      <td>3.225469</td>\n",
       "      <td>3.510016</td>\n",
       "      <td>3.500052</td>\n",
       "      <td>3.502136</td>\n",
       "    </tr>\n",
       "    <tr>\n",
       "      <th>3</th>\n",
       "      <td>30</td>\n",
       "      <td>True</td>\n",
       "      <td>3.580736</td>\n",
       "      <td>3.500052</td>\n",
       "      <td>3.502343</td>\n",
       "      <td>3.501777</td>\n",
       "    </tr>\n",
       "    <tr>\n",
       "      <th>4</th>\n",
       "      <td>50</td>\n",
       "      <td>False</td>\n",
       "      <td>13.174447</td>\n",
       "      <td>13.487939</td>\n",
       "      <td>13.482459</td>\n",
       "      <td>13.469489</td>\n",
       "    </tr>\n",
       "    <tr>\n",
       "      <th>5</th>\n",
       "      <td>50</td>\n",
       "      <td>True</td>\n",
       "      <td>13.372588</td>\n",
       "      <td>13.482459</td>\n",
       "      <td>13.475704</td>\n",
       "      <td>13.470883</td>\n",
       "    </tr>\n",
       "    <tr>\n",
       "      <th>6</th>\n",
       "      <td>70</td>\n",
       "      <td>False</td>\n",
       "      <td>28.354095</td>\n",
       "      <td>27.819679</td>\n",
       "      <td>27.808485</td>\n",
       "      <td>27.801180</td>\n",
       "    </tr>\n",
       "    <tr>\n",
       "      <th>7</th>\n",
       "      <td>70</td>\n",
       "      <td>True</td>\n",
       "      <td>27.964310</td>\n",
       "      <td>27.808485</td>\n",
       "      <td>27.802581</td>\n",
       "      <td>27.800344</td>\n",
       "    </tr>\n",
       "    <tr>\n",
       "      <th>8</th>\n",
       "      <td>90</td>\n",
       "      <td>False</td>\n",
       "      <td>44.114929</td>\n",
       "      <td>44.553680</td>\n",
       "      <td>44.536355</td>\n",
       "      <td>44.540383</td>\n",
       "    </tr>\n",
       "    <tr>\n",
       "      <th>9</th>\n",
       "      <td>90</td>\n",
       "      <td>True</td>\n",
       "      <td>44.674664</td>\n",
       "      <td>44.536355</td>\n",
       "      <td>44.541655</td>\n",
       "      <td>44.539958</td>\n",
       "    </tr>\n",
       "  </tbody>\n",
       "</table>\n",
       "</div>"
      ],
      "text/plain": [
       "   price  is_tri          6        126        252       1008\n",
       "0     10   False   0.029635   0.053063   0.054643   0.054727\n",
       "1     10    True   0.031336   0.054643   0.054642   0.054962\n",
       "2     30   False   3.225469   3.510016   3.500052   3.502136\n",
       "3     30    True   3.580736   3.500052   3.502343   3.501777\n",
       "4     50   False  13.174447  13.487939  13.482459  13.469489\n",
       "5     50    True  13.372588  13.482459  13.475704  13.470883\n",
       "6     70   False  28.354095  27.819679  27.808485  27.801180\n",
       "7     70    True  27.964310  27.808485  27.802581  27.800344\n",
       "8     90   False  44.114929  44.553680  44.536355  44.540383\n",
       "9     90    True  44.674664  44.536355  44.541655  44.539958"
      ]
     },
     "execution_count": 125,
     "metadata": {},
     "output_type": "execute_result"
    }
   ],
   "source": [
    "opt_prices_btcall"
   ]
  },
  {
   "cell_type": "code",
   "execution_count": 116,
   "metadata": {},
   "outputs": [],
   "source": [
    "rows_list = []\n",
    "for price in prices:\n",
    "    for bt in is_tri:\n",
    "        row = {}\n",
    "        row['price'] = price\n",
    "        row['is_tri']=bt\n",
    "        for N_step in N_steps:\n",
    "            col = str(N_step)\n",
    "            if bt:\n",
    "                row[col] = TrinomialTreeOption(price, 52, r=0.04, T=0.5, N=N_step, sigma=1, is_put=True, is_am=True).price()\n",
    "            else:\n",
    "                row[col] = BinomialCRROption(price, 52, r=0.04, T=0.5, N=N_step, sigma=1, is_put=True, is_am=True).price()\n",
    "        rows_list.append(row)\n",
    "        \n",
    "        \n",
    "opt_prices_btput = pd.DataFrame(rows_list)"
   ]
  },
  {
   "cell_type": "code",
   "execution_count": 117,
   "metadata": {},
   "outputs": [
    {
     "data": {
      "text/html": [
       "<div>\n",
       "<style scoped>\n",
       "    .dataframe tbody tr th:only-of-type {\n",
       "        vertical-align: middle;\n",
       "    }\n",
       "\n",
       "    .dataframe tbody tr th {\n",
       "        vertical-align: top;\n",
       "    }\n",
       "\n",
       "    .dataframe thead th {\n",
       "        text-align: right;\n",
       "    }\n",
       "</style>\n",
       "<table border=\"1\" class=\"dataframe\">\n",
       "  <thead>\n",
       "    <tr style=\"text-align: right;\">\n",
       "      <th></th>\n",
       "      <th>price</th>\n",
       "      <th>is_tri</th>\n",
       "      <th>6</th>\n",
       "      <th>126</th>\n",
       "      <th>252</th>\n",
       "      <th>1008</th>\n",
       "    </tr>\n",
       "  </thead>\n",
       "  <tbody>\n",
       "    <tr>\n",
       "      <th>0</th>\n",
       "      <td>10</td>\n",
       "      <td>False</td>\n",
       "      <td>42.000000</td>\n",
       "      <td>42.000000</td>\n",
       "      <td>42.000000</td>\n",
       "      <td>42.000000</td>\n",
       "    </tr>\n",
       "    <tr>\n",
       "      <th>1</th>\n",
       "      <td>10</td>\n",
       "      <td>True</td>\n",
       "      <td>42.000000</td>\n",
       "      <td>42.000000</td>\n",
       "      <td>42.000000</td>\n",
       "      <td>42.000000</td>\n",
       "    </tr>\n",
       "    <tr>\n",
       "      <th>2</th>\n",
       "      <td>30</td>\n",
       "      <td>False</td>\n",
       "      <td>24.526709</td>\n",
       "      <td>24.758291</td>\n",
       "      <td>24.748179</td>\n",
       "      <td>24.748545</td>\n",
       "    </tr>\n",
       "    <tr>\n",
       "      <th>3</th>\n",
       "      <td>30</td>\n",
       "      <td>True</td>\n",
       "      <td>24.820136</td>\n",
       "      <td>24.746953</td>\n",
       "      <td>24.748406</td>\n",
       "      <td>24.747885</td>\n",
       "    </tr>\n",
       "    <tr>\n",
       "      <th>4</th>\n",
       "      <td>50</td>\n",
       "      <td>False</td>\n",
       "      <td>14.353000</td>\n",
       "      <td>14.568609</td>\n",
       "      <td>14.561265</td>\n",
       "      <td>14.547684</td>\n",
       "    </tr>\n",
       "    <tr>\n",
       "      <th>5</th>\n",
       "      <td>50</td>\n",
       "      <td>True</td>\n",
       "      <td>14.470768</td>\n",
       "      <td>14.560277</td>\n",
       "      <td>14.553444</td>\n",
       "      <td>14.548756</td>\n",
       "    </tr>\n",
       "    <tr>\n",
       "      <th>6</th>\n",
       "      <td>70</td>\n",
       "      <td>False</td>\n",
       "      <td>9.389724</td>\n",
       "      <td>8.841586</td>\n",
       "      <td>8.829926</td>\n",
       "      <td>8.822249</td>\n",
       "    </tr>\n",
       "    <tr>\n",
       "      <th>7</th>\n",
       "      <td>70</td>\n",
       "      <td>True</td>\n",
       "      <td>8.990804</td>\n",
       "      <td>8.829221</td>\n",
       "      <td>8.823644</td>\n",
       "      <td>8.821150</td>\n",
       "    </tr>\n",
       "    <tr>\n",
       "      <th>8</th>\n",
       "      <td>90</td>\n",
       "      <td>False</td>\n",
       "      <td>5.150558</td>\n",
       "      <td>5.551290</td>\n",
       "      <td>5.533711</td>\n",
       "      <td>5.537317</td>\n",
       "    </tr>\n",
       "    <tr>\n",
       "      <th>9</th>\n",
       "      <td>90</td>\n",
       "      <td>True</td>\n",
       "      <td>5.662706</td>\n",
       "      <td>5.533219</td>\n",
       "      <td>5.538660</td>\n",
       "      <td>5.536762</td>\n",
       "    </tr>\n",
       "  </tbody>\n",
       "</table>\n",
       "</div>"
      ],
      "text/plain": [
       "   price  is_tri          6        126        252       1008\n",
       "0     10   False  42.000000  42.000000  42.000000  42.000000\n",
       "1     10    True  42.000000  42.000000  42.000000  42.000000\n",
       "2     30   False  24.526709  24.758291  24.748179  24.748545\n",
       "3     30    True  24.820136  24.746953  24.748406  24.747885\n",
       "4     50   False  14.353000  14.568609  14.561265  14.547684\n",
       "5     50    True  14.470768  14.560277  14.553444  14.548756\n",
       "6     70   False   9.389724   8.841586   8.829926   8.822249\n",
       "7     70    True   8.990804   8.829221   8.823644   8.821150\n",
       "8     90   False   5.150558   5.551290   5.533711   5.537317\n",
       "9     90    True   5.662706   5.533219   5.538660   5.536762"
      ]
     },
     "execution_count": 117,
     "metadata": {},
     "output_type": "execute_result"
    }
   ],
   "source": [
    "opt_prices_btput"
   ]
  },
  {
   "cell_type": "markdown",
   "metadata": {},
   "source": [
    "# Monte Carlo Simulations"
   ]
  },
  {
   "cell_type": "markdown",
   "metadata": {},
   "source": [
    "### Define European option simulator and value calculator as discussed in report"
   ]
  },
  {
   "cell_type": "code",
   "execution_count": 149,
   "metadata": {},
   "outputs": [],
   "source": [
    "def european_option_simulation(S_0, K, T, r, sigma, n_sims, is_put):\n",
    "\n",
    "    rv = np.random.normal(0, 1, size=n_sims)\n",
    "    S_T = S_0 * np.exp((r - 0.5 * sigma**2) * T + sigma * np.sqrt(T) * rv)\n",
    "\n",
    "    if is_put:\n",
    "        payoff = np.maximum(0, K - S_T)\n",
    "    else:\n",
    "        payoff = np.maximum(0, S_T - K)\n",
    "        \n",
    "    premium = np.mean(payoff) * np.exp(-r * T)\n",
    "    return premium"
   ]
  },
  {
   "cell_type": "code",
   "execution_count": 150,
   "metadata": {},
   "outputs": [],
   "source": [
    "prices = [10, 30, 50, 70, 90]\n",
    "is_put = [False, True]"
   ]
  },
  {
   "cell_type": "code",
   "execution_count": 151,
   "metadata": {},
   "outputs": [
    {
     "data": {
      "text/plain": [
       "14.43074961233692"
      ]
     },
     "execution_count": 151,
     "metadata": {},
     "output_type": "execute_result"
    }
   ],
   "source": [
    "european_option_simulation(S_0=50, K=52, T=0.5, r=0.04, sigma=1, n_sims=10000000, is_put=True)"
   ]
  },
  {
   "cell_type": "code",
   "execution_count": 152,
   "metadata": {},
   "outputs": [],
   "source": [
    "rows_list = []\n",
    "for opt_type in is_put:\n",
    "    row = {}\n",
    "    row['is_put']=opt_type\n",
    "    for price in prices:\n",
    "        col = str(price)\n",
    "        row[col] = european_option_simulation(price, K=52, r=0.04, T=0.5, sigma=1, n_sims=1000000, is_put=opt_type)\n",
    "    rows_list.append(row)\n",
    "        \n",
    "        \n",
    "opt_prices_mc = pd.DataFrame(rows_list)"
   ]
  },
  {
   "cell_type": "code",
   "execution_count": 153,
   "metadata": {},
   "outputs": [
    {
     "data": {
      "text/html": [
       "<div>\n",
       "<style scoped>\n",
       "    .dataframe tbody tr th:only-of-type {\n",
       "        vertical-align: middle;\n",
       "    }\n",
       "\n",
       "    .dataframe tbody tr th {\n",
       "        vertical-align: top;\n",
       "    }\n",
       "\n",
       "    .dataframe thead th {\n",
       "        text-align: right;\n",
       "    }\n",
       "</style>\n",
       "<table border=\"1\" class=\"dataframe\">\n",
       "  <thead>\n",
       "    <tr style=\"text-align: right;\">\n",
       "      <th></th>\n",
       "      <th>is_put</th>\n",
       "      <th>10</th>\n",
       "      <th>30</th>\n",
       "      <th>50</th>\n",
       "      <th>70</th>\n",
       "      <th>90</th>\n",
       "    </tr>\n",
       "  </thead>\n",
       "  <tbody>\n",
       "    <tr>\n",
       "      <th>0</th>\n",
       "      <td>False</td>\n",
       "      <td>0.056340</td>\n",
       "      <td>3.511628</td>\n",
       "      <td>13.491865</td>\n",
       "      <td>27.853468</td>\n",
       "      <td>44.559145</td>\n",
       "    </tr>\n",
       "    <tr>\n",
       "      <th>1</th>\n",
       "      <td>True</td>\n",
       "      <td>41.026896</td>\n",
       "      <td>24.475749</td>\n",
       "      <td>14.447755</td>\n",
       "      <td>8.754133</td>\n",
       "      <td>5.502743</td>\n",
       "    </tr>\n",
       "  </tbody>\n",
       "</table>\n",
       "</div>"
      ],
      "text/plain": [
       "   is_put         10         30         50         70         90\n",
       "0   False   0.056340   3.511628  13.491865  27.853468  44.559145\n",
       "1    True  41.026896  24.475749  14.447755   8.754133   5.502743"
      ]
     },
     "execution_count": 153,
     "metadata": {},
     "output_type": "execute_result"
    }
   ],
   "source": [
    "opt_prices_mc"
   ]
  },
  {
   "cell_type": "markdown",
   "metadata": {},
   "source": [
    "## Do the same for American option"
   ]
  },
  {
   "cell_type": "markdown",
   "metadata": {},
   "source": [
    "### This time, we need the whole path of the of price of the underlying to take into account the possibility of early exercise. For this we make a support function to generate underlying paths"
   ]
  },
  {
   "cell_type": "code",
   "execution_count": 173,
   "metadata": {},
   "outputs": [],
   "source": [
    "def simulate_gbm(S_0, mu, sigma,  T, N, n_sims):\n",
    "\n",
    "    dt = T/N\n",
    "    dW = np.random.normal(scale=np.sqrt(dt),size=(n_sims, N + 1))\n",
    "    S_t = S_0 * np.exp(np.cumsum((mu - 0.5 * sigma ** 2) * dt + sigma * dW,axis=1))\n",
    "    S_t[:, 0] = S_0\n",
    "\n",
    "    return S_t"
   ]
  },
  {
   "cell_type": "code",
   "execution_count": 174,
   "metadata": {},
   "outputs": [],
   "source": [
    "def lsmc_american_option(S_0, K, T, N, r, sigma, is_put, poly_degree, n_sims):\n",
    "    \n",
    "    dt = T / N\n",
    "    discount_factor = np.exp(-r * dt)\n",
    "\n",
    "    gbm_simulations = simulate_gbm(S_0=S_0, mu=r, sigma=sigma, n_sims=n_sims, T=T, N=N,)\n",
    "\n",
    "    if is_put:\n",
    "        payoff_matrix = np.maximum(K - gbm_simulations, np.zeros_like(gbm_simulations))\n",
    "    else:\n",
    "        payoff_matrix = np.maximum(gbm_simulations - K, np.zeros_like(gbm_simulations))\n",
    "    \n",
    "    value_matrix = np.zeros_like(payoff_matrix)\n",
    "    value_matrix[:, -1] = payoff_matrix[:, -1]\n",
    "\n",
    "    for t in range(N - 1, 0, -1):\n",
    "        regression = np.polyfit(gbm_simulations[:, t], value_matrix[:, t + 1] * discount_factor, poly_degree)\n",
    "        continuation_value = np.polyval(regression, gbm_simulations[:, t])\n",
    "        value_matrix[:, t] = np.where(payoff_matrix[:, t] > continuation_value, payoff_matrix[:, t], value_matrix[:, t + 1] * discount_factor)\n",
    "\n",
    "    option_premium = np.mean(value_matrix[:, 1] * discount_factor)\n",
    "    return option_premium"
   ]
  },
  {
   "cell_type": "code",
   "execution_count": 197,
   "metadata": {},
   "outputs": [],
   "source": [
    "# N_SIMS 10000 takes a handful of seconds, N_SIMS 100000 takes a few minutes, N_SIMS 1000000 takes more than two hours\n",
    "N_SIMS = 100000\n",
    "N_steps = [6, 126, 252, 1008]\n",
    "prices = [10, 30, 50, 70, 90]"
   ]
  },
  {
   "cell_type": "code",
   "execution_count": 198,
   "metadata": {},
   "outputs": [],
   "source": [
    "rows_list = []\n",
    "for price in prices:\n",
    "    row = {}\n",
    "    row['price'] = price\n",
    "    for N_step in N_steps:\n",
    "        col = str(N_step)\n",
    "        row[col] = lsmc_american_option(price, 52, r=0.04, T=0.5, N=N_step, sigma=1, poly_degree=5, n_sims=N_SIMS, is_put=True)\n",
    "    \n",
    "    rows_list.append(row)\n",
    "        \n",
    "        \n",
    "opt_prices_lsmc = pd.DataFrame(rows_list)"
   ]
  },
  {
   "cell_type": "code",
   "execution_count": 199,
   "metadata": {},
   "outputs": [
    {
     "data": {
      "text/html": [
       "<div>\n",
       "<style scoped>\n",
       "    .dataframe tbody tr th:only-of-type {\n",
       "        vertical-align: middle;\n",
       "    }\n",
       "\n",
       "    .dataframe tbody tr th {\n",
       "        vertical-align: top;\n",
       "    }\n",
       "\n",
       "    .dataframe thead th {\n",
       "        text-align: right;\n",
       "    }\n",
       "</style>\n",
       "<table border=\"1\" class=\"dataframe\">\n",
       "  <thead>\n",
       "    <tr style=\"text-align: right;\">\n",
       "      <th></th>\n",
       "      <th>price</th>\n",
       "      <th>6</th>\n",
       "      <th>126</th>\n",
       "      <th>252</th>\n",
       "      <th>1008</th>\n",
       "    </tr>\n",
       "  </thead>\n",
       "  <tbody>\n",
       "    <tr>\n",
       "      <th>0</th>\n",
       "      <td>10</td>\n",
       "      <td>41.818603</td>\n",
       "      <td>41.987142</td>\n",
       "      <td>41.991629</td>\n",
       "      <td>41.998628</td>\n",
       "    </tr>\n",
       "    <tr>\n",
       "      <th>1</th>\n",
       "      <td>30</td>\n",
       "      <td>25.308526</td>\n",
       "      <td>24.627541</td>\n",
       "      <td>24.534923</td>\n",
       "      <td>24.513859</td>\n",
       "    </tr>\n",
       "    <tr>\n",
       "      <th>2</th>\n",
       "      <td>50</td>\n",
       "      <td>15.475367</td>\n",
       "      <td>14.235831</td>\n",
       "      <td>14.181039</td>\n",
       "      <td>14.129088</td>\n",
       "    </tr>\n",
       "    <tr>\n",
       "      <th>3</th>\n",
       "      <td>70</td>\n",
       "      <td>9.777543</td>\n",
       "      <td>8.423499</td>\n",
       "      <td>8.324311</td>\n",
       "      <td>8.213723</td>\n",
       "    </tr>\n",
       "    <tr>\n",
       "      <th>4</th>\n",
       "      <td>90</td>\n",
       "      <td>6.308202</td>\n",
       "      <td>4.987168</td>\n",
       "      <td>4.908039</td>\n",
       "      <td>4.747664</td>\n",
       "    </tr>\n",
       "  </tbody>\n",
       "</table>\n",
       "</div>"
      ],
      "text/plain": [
       "   price          6        126        252       1008\n",
       "0     10  41.818603  41.987142  41.991629  41.998628\n",
       "1     30  25.308526  24.627541  24.534923  24.513859\n",
       "2     50  15.475367  14.235831  14.181039  14.129088\n",
       "3     70   9.777543   8.423499   8.324311   8.213723\n",
       "4     90   6.308202   4.987168   4.908039   4.747664"
      ]
     },
     "execution_count": 199,
     "metadata": {},
     "output_type": "execute_result"
    }
   ],
   "source": [
    "opt_prices_lsmc"
   ]
  },
  {
   "cell_type": "code",
   "execution_count": 200,
   "metadata": {},
   "outputs": [],
   "source": [
    "opt_prices_lsmc_put_100000 = opt_prices_lsmc"
   ]
  },
  {
   "cell_type": "code",
   "execution_count": 196,
   "metadata": {},
   "outputs": [
    {
     "data": {
      "text/html": [
       "<div>\n",
       "<style scoped>\n",
       "    .dataframe tbody tr th:only-of-type {\n",
       "        vertical-align: middle;\n",
       "    }\n",
       "\n",
       "    .dataframe tbody tr th {\n",
       "        vertical-align: top;\n",
       "    }\n",
       "\n",
       "    .dataframe thead th {\n",
       "        text-align: right;\n",
       "    }\n",
       "</style>\n",
       "<table border=\"1\" class=\"dataframe\">\n",
       "  <thead>\n",
       "    <tr style=\"text-align: right;\">\n",
       "      <th></th>\n",
       "      <th>price</th>\n",
       "      <th>6</th>\n",
       "      <th>126</th>\n",
       "      <th>252</th>\n",
       "      <th>1008</th>\n",
       "    </tr>\n",
       "  </thead>\n",
       "  <tbody>\n",
       "    <tr>\n",
       "      <th>0</th>\n",
       "      <td>10</td>\n",
       "      <td>0.092051</td>\n",
       "      <td>0.029006</td>\n",
       "      <td>0.029035</td>\n",
       "      <td>0.036475</td>\n",
       "    </tr>\n",
       "    <tr>\n",
       "      <th>1</th>\n",
       "      <td>30</td>\n",
       "      <td>4.110022</td>\n",
       "      <td>3.278732</td>\n",
       "      <td>3.230613</td>\n",
       "      <td>3.199812</td>\n",
       "    </tr>\n",
       "    <tr>\n",
       "      <th>2</th>\n",
       "      <td>50</td>\n",
       "      <td>14.428258</td>\n",
       "      <td>13.084880</td>\n",
       "      <td>13.182150</td>\n",
       "      <td>12.798266</td>\n",
       "    </tr>\n",
       "    <tr>\n",
       "      <th>3</th>\n",
       "      <td>70</td>\n",
       "      <td>28.945112</td>\n",
       "      <td>27.387203</td>\n",
       "      <td>27.399228</td>\n",
       "      <td>27.067871</td>\n",
       "    </tr>\n",
       "    <tr>\n",
       "      <th>4</th>\n",
       "      <td>90</td>\n",
       "      <td>45.732476</td>\n",
       "      <td>43.969425</td>\n",
       "      <td>43.988972</td>\n",
       "      <td>43.487231</td>\n",
       "    </tr>\n",
       "  </tbody>\n",
       "</table>\n",
       "</div>"
      ],
      "text/plain": [
       "   price          6        126        252       1008\n",
       "0     10   0.092051   0.029006   0.029035   0.036475\n",
       "1     30   4.110022   3.278732   3.230613   3.199812\n",
       "2     50  14.428258  13.084880  13.182150  12.798266\n",
       "3     70  28.945112  27.387203  27.399228  27.067871\n",
       "4     90  45.732476  43.969425  43.988972  43.487231"
      ]
     },
     "execution_count": 196,
     "metadata": {},
     "output_type": "execute_result"
    }
   ],
   "source": [
    "opt_prices_lsmc_call_100000"
   ]
  },
  {
   "cell_type": "code",
   "execution_count": 201,
   "metadata": {},
   "outputs": [
    {
     "data": {
      "text/html": [
       "<div>\n",
       "<style scoped>\n",
       "    .dataframe tbody tr th:only-of-type {\n",
       "        vertical-align: middle;\n",
       "    }\n",
       "\n",
       "    .dataframe tbody tr th {\n",
       "        vertical-align: top;\n",
       "    }\n",
       "\n",
       "    .dataframe thead th {\n",
       "        text-align: right;\n",
       "    }\n",
       "</style>\n",
       "<table border=\"1\" class=\"dataframe\">\n",
       "  <thead>\n",
       "    <tr style=\"text-align: right;\">\n",
       "      <th></th>\n",
       "      <th>price</th>\n",
       "      <th>6</th>\n",
       "      <th>126</th>\n",
       "      <th>252</th>\n",
       "      <th>1008</th>\n",
       "    </tr>\n",
       "  </thead>\n",
       "  <tbody>\n",
       "    <tr>\n",
       "      <th>0</th>\n",
       "      <td>10</td>\n",
       "      <td>41.818603</td>\n",
       "      <td>41.987142</td>\n",
       "      <td>41.991629</td>\n",
       "      <td>41.998628</td>\n",
       "    </tr>\n",
       "    <tr>\n",
       "      <th>1</th>\n",
       "      <td>30</td>\n",
       "      <td>25.308526</td>\n",
       "      <td>24.627541</td>\n",
       "      <td>24.534923</td>\n",
       "      <td>24.513859</td>\n",
       "    </tr>\n",
       "    <tr>\n",
       "      <th>2</th>\n",
       "      <td>50</td>\n",
       "      <td>15.475367</td>\n",
       "      <td>14.235831</td>\n",
       "      <td>14.181039</td>\n",
       "      <td>14.129088</td>\n",
       "    </tr>\n",
       "    <tr>\n",
       "      <th>3</th>\n",
       "      <td>70</td>\n",
       "      <td>9.777543</td>\n",
       "      <td>8.423499</td>\n",
       "      <td>8.324311</td>\n",
       "      <td>8.213723</td>\n",
       "    </tr>\n",
       "    <tr>\n",
       "      <th>4</th>\n",
       "      <td>90</td>\n",
       "      <td>6.308202</td>\n",
       "      <td>4.987168</td>\n",
       "      <td>4.908039</td>\n",
       "      <td>4.747664</td>\n",
       "    </tr>\n",
       "  </tbody>\n",
       "</table>\n",
       "</div>"
      ],
      "text/plain": [
       "   price          6        126        252       1008\n",
       "0     10  41.818603  41.987142  41.991629  41.998628\n",
       "1     30  25.308526  24.627541  24.534923  24.513859\n",
       "2     50  15.475367  14.235831  14.181039  14.129088\n",
       "3     70   9.777543   8.423499   8.324311   8.213723\n",
       "4     90   6.308202   4.987168   4.908039   4.747664"
      ]
     },
     "execution_count": 201,
     "metadata": {},
     "output_type": "execute_result"
    }
   ],
   "source": [
    "opt_prices_lsmc_put_100000"
   ]
  },
  {
   "cell_type": "code",
   "execution_count": null,
   "metadata": {},
   "outputs": [],
   "source": []
  }
 ],
 "metadata": {
  "kernelspec": {
   "display_name": "Python 3",
   "language": "python",
   "name": "python3"
  },
  "language_info": {
   "codemirror_mode": {
    "name": "ipython",
    "version": 3
   },
   "file_extension": ".py",
   "mimetype": "text/x-python",
   "name": "python",
   "nbconvert_exporter": "python",
   "pygments_lexer": "ipython3",
   "version": "3.8.3"
  }
 },
 "nbformat": 4,
 "nbformat_minor": 2
}
