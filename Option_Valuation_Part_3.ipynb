{
 "cells": [
  {
   "cell_type": "markdown",
   "metadata": {},
   "source": [
    "# Pricing Options using Finite Differenences method, and Implied Volatility\n",
    "## Zach Barnhart"
   ]
  },
  {
   "cell_type": "markdown",
   "metadata": {},
   "source": [
    "### First we copy all our results from the first and second part. Some of the classes we have built can easily be modified for our goals listed above. Skip to NEW STUFF HERE to get to the new stuff for this part"
   ]
  },
  {
   "cell_type": "markdown",
   "metadata": {},
   "source": [
    "## StockOption base class"
   ]
  },
  {
   "cell_type": "code",
   "execution_count": 1,
   "metadata": {},
   "outputs": [],
   "source": [
    "import math\n",
    "\n",
    "# The basic stock option class that will serve as the basis for more specific subclasses\n",
    "# Contains all the basic attibutes and methods common to all options\n",
    "class StockOption(object):\n",
    "    def __init__(self, s_0, K, r=0.04, T=1, N=2, pu=0, pd=0, div=0, sigma=0, is_put=False, is_am=False):\n",
    "        \n",
    "        self.s_0 = s_0\n",
    "        self.K = K\n",
    "        self.r = r\n",
    "        self.T = T\n",
    "        self.N = max(1, N)\n",
    "        self.STs = [] # Declare the stock prices tree\n",
    "\n",
    "        # will use these for certain classes later\n",
    "        self.pu, self.pd = pu, pd\n",
    "        self.div = div\n",
    "        self.sigma = sigma\n",
    "        self.is_call = not is_put\n",
    "        self.is_european = not is_am\n",
    "\n",
    "    @property\n",
    "    def dt(self):\n",
    "        return self.T / float(self.N)\n",
    "\n",
    "    @property\n",
    "    def df(self):\n",
    "        return math.exp(-(self.r-self.div)*self.dt)  "
   ]
  },
  {
   "cell_type": "markdown",
   "metadata": {},
   "source": [
    "## European options using a binomial tree"
   ]
  },
  {
   "cell_type": "code",
   "execution_count": 2,
   "metadata": {},
   "outputs": [],
   "source": [
    "import numpy as np\n",
    "from decimal import Decimal\n",
    "\n",
    "# Price a basic European option using the binomial tree model \n",
    "class BinomialEuropeanOption(StockOption):\n",
    "\n",
    "    def setup_parameters(self):\n",
    "        # Required calculations for the model\n",
    "        self.M = self.N + 1  # Number of terminal nodes of tree\n",
    "        self.u = 1 + self.pu  # Expected value in the up state\n",
    "        self.d = 1 - self.pd  # Expected value in the down state\n",
    "        self.qu = (math.exp((self.r-self.div)*self.dt)-self.d)/(self.u-self.d)\n",
    "        self.qd = 1 - self.qu\n",
    "\n",
    "    def init_underlying_price_tree(self):\n",
    "        # Initialize terminal price nodes to zeros\n",
    "        self.STs = np.zeros(self.M)\n",
    "\n",
    "        # Calculate expected stock prices for each node\n",
    "        for i in range(self.M):\n",
    "            self.STs[i] = self.s_0 * (self.u**(self.N-i)) * (self.d**i)\n",
    "\n",
    "    def init_payoffs_tree(self):\n",
    "        \n",
    "        if self.is_call:\n",
    "            return np.maximum(0, self.STs - self.K)\n",
    "        else:\n",
    "            return np.maximum(0, self.K - self.STs)\n",
    "\n",
    "    def calculate_payoffs(self, payoffs):\n",
    "        \n",
    "        for i in range(self.N):\n",
    "            payoffs = (payoffs[:-1] * self.qu + payoffs[1:] * self.qd) * self.df\n",
    "\n",
    "        return payoffs\n",
    "\n",
    "    def begin_tree_traversal(self):\n",
    "        payoffs = self.init_payoffs_tree()\n",
    "        return self.calculate_payoffs(payoffs)\n",
    "\n",
    "    def price(self):\n",
    "        self.setup_parameters()\n",
    "        self.init_underlying_price_tree()\n",
    "        payoffs = self.begin_tree_traversal()\n",
    "\n",
    "        # Option value converges to first node\n",
    "        return payoffs[0]"
   ]
  },
  {
   "cell_type": "code",
   "execution_count": 3,
   "metadata": {},
   "outputs": [
    {
     "data": {
      "text/plain": [
       "20.771399051264964"
      ]
     },
     "execution_count": 3,
     "metadata": {},
     "output_type": "execute_result"
    }
   ],
   "source": [
    "BinomialEuropeanOption(30, 55, r=0.04, T=2, N=2, pu=0.2, pd=0.2, is_put=True).price()"
   ]
  },
  {
   "cell_type": "markdown",
   "metadata": {},
   "source": [
    "## American options using a binomial tree\n",
    "### (Class can handle both types)"
   ]
  },
  {
   "cell_type": "code",
   "execution_count": 4,
   "metadata": {},
   "outputs": [],
   "source": [
    "#Price a European or American option by the binomial tree \n",
    "\n",
    "class BinomialTreeOption(StockOption):\n",
    "\n",
    "    def setup_parameters(self):\n",
    "        self.u = 1 + self.pu  # Expected value in the up state\n",
    "        self.d = 1 - self.pd  # Expected value in the down state\n",
    "        self.qu = (math.exp((self.r - self.div) *  self.dt) - self.d) / (self.u - self.d)\n",
    "        self.qd = 1 - self.qu\n",
    "\n",
    "    def init_underlying_price_tree(self):\n",
    "        # Initialize a tree to add to\n",
    "        self.STs = [np.array([self.s_0])]\n",
    "\n",
    "        # Simulate the possible stock prices path\n",
    "        for i in range(self.N):\n",
    "            prev_branches = self.STs[-1]\n",
    "            st = np.concatenate((prev_branches * self.u, [prev_branches[-1] * self.d]))\n",
    "            self.STs.append(st) # Add nodes at each time step\n",
    "\n",
    "    def init_payoffs_tree(self):\n",
    "        if self.is_call:\n",
    "            return np.maximum(0, self.STs[self.N] - self.K)\n",
    "        else:\n",
    "            return np.maximum(0, self.K - self.STs[self.N])\n",
    "\n",
    "    def check_early_exercise(self, payoffs, node):\n",
    "        if self.is_call:\n",
    "            return np.maximum(payoffs, self.STs[node] - self.K)\n",
    "        else:\n",
    "            return np.maximum(payoffs, self.K - self.STs[node])\n",
    "\n",
    "    def calculate_payoffs(self, payoffs):\n",
    "        for i in reversed(range(self.N)):\n",
    "            # The payoffs from NOT exercising the option\n",
    "            payoffs = (payoffs[:-1] * self.qu + payoffs[1:] * self.qd) * self.df\n",
    "\n",
    "            # Payoffs from exercising, for American options\n",
    "            if not self.is_european:\n",
    "                payoffs = self.check_early_exercise(payoffs, i)\n",
    "\n",
    "        return payoffs\n",
    "\n",
    "    def begin_tree_traversal(self):\n",
    "        payoffs = self.init_payoffs_tree()\n",
    "        return self.calculate_payoffs(payoffs)\n",
    "\n",
    "    def price(self):\n",
    "        self.setup_parameters()\n",
    "        self.init_underlying_price_tree()\n",
    "        payoffs = self.begin_tree_traversal()\n",
    "        return payoffs[0]"
   ]
  },
  {
   "cell_type": "code",
   "execution_count": 5,
   "metadata": {},
   "outputs": [
    {
     "data": {
      "text/plain": [
       "41.71188633590327"
      ]
     },
     "execution_count": 5,
     "metadata": {},
     "output_type": "execute_result"
    }
   ],
   "source": [
    "BinomialTreeOption(50, 52, r=0.04, T=2, N=200, pu=0.2, pd=0.2, is_put=True, is_am=True).price()"
   ]
  },
  {
   "cell_type": "markdown",
   "metadata": {},
   "source": [
    "## The Cox-Ross-Rubinstein model"
   ]
  },
  {
   "cell_type": "markdown",
   "metadata": {},
   "source": [
    "### A class for Cox-Ross-Rubinstein binomial tree option pricing model"
   ]
  },
  {
   "cell_type": "code",
   "execution_count": 6,
   "metadata": {},
   "outputs": [],
   "source": [
    "# Price an option by the binomial CRR model \n",
    "class BinomialCRROption(BinomialTreeOption):\n",
    "    def setup_parameters(self):\n",
    "        self.u = math.exp(self.sigma * math.sqrt(self.dt))\n",
    "        self.d = 1. / self.u\n",
    "        self.qu = (math.exp((self.r - self.div) * self.dt) - self.d) / (self.u - self.d)\n",
    "        self.qd = 1 - self.qu"
   ]
  },
  {
   "cell_type": "code",
   "execution_count": 7,
   "metadata": {},
   "outputs": [
    {
     "data": {
      "text/plain": [
       "4.766499908855962"
      ]
     },
     "execution_count": 7,
     "metadata": {},
     "output_type": "execute_result"
    }
   ],
   "source": [
    "BinomialCRROption(50, 52, r=0.04, T=0.5, N=1008, sigma=0.3, is_put=True).price()"
   ]
  },
  {
   "cell_type": "markdown",
   "metadata": {},
   "source": [
    "## Using a Leisen-Reimer (LR) tree"
   ]
  },
  {
   "cell_type": "markdown",
   "metadata": {},
   "source": [
    "### A class for LR binomial tree option pricing model"
   ]
  },
  {
   "cell_type": "code",
   "execution_count": 8,
   "metadata": {},
   "outputs": [],
   "source": [
    "# Price an option by the Leisen-Reimer model\n",
    "class BinomialLROption(BinomialTreeOption):\n",
    "\n",
    "    def setup_parameters(self):\n",
    "        odd_N = self.N if (self.N % 2 == 0) else (self.N + 1)\n",
    "        d1 = (math.log(self.s_0 / self.K) + ((self.r-self.div) + (self.sigma**2) / 2.) * self.T)/ (self.sigma * math.sqrt(self.T))\n",
    "        d2 = (math.log(self.s_0 / self.K) +((self.r - self.div) - (self.sigma**2) / 2.) * self.T) / (self.sigma * math.sqrt(self.T))\n",
    "\n",
    "        pbar = self.pp_2_inversion(d1, odd_N)\n",
    "        self.p = self.pp_2_inversion(d2, odd_N)\n",
    "        self.u = 1 / self.df * pbar / self.p\n",
    "        self.d = (1 / self.df - self.p * self.u) / (1 - self.p)\n",
    "        self.qu = self.p\n",
    "        self.qd = 1 - self.p\n",
    "\n",
    "    def pp_2_inversion(self, z, n):\n",
    "        return .5 + math.copysign(1, z) * math.sqrt(.25 - .25 * math.exp(-((z / (n + 1./3. + .1/(n+1)))**2.) * (n+1./6.)))"
   ]
  },
  {
   "cell_type": "code",
   "execution_count": 9,
   "metadata": {},
   "outputs": [
    {
     "data": {
      "text/plain": [
       "20.986880225025804"
      ]
     },
     "execution_count": 9,
     "metadata": {},
     "output_type": "execute_result"
    }
   ],
   "source": [
    "BinomialLROption(30, 52, r=0.04, T=0.5, N=1008, sigma=0.3, is_put=True).price()"
   ]
  },
  {
   "cell_type": "markdown",
   "metadata": {},
   "source": [
    "### Black-Scholes Formula"
   ]
  },
  {
   "cell_type": "code",
   "execution_count": 10,
   "metadata": {},
   "outputs": [],
   "source": [
    "from scipy.stats import norm\n",
    "\n",
    "def black_scholes_analytical(S_0, K, T, r, sigma, is_put=False):\n",
    "    \n",
    "    d1 = (np.log(S_0 / K) + (r + 0.5 * sigma ** 2) * T) / (sigma * np.sqrt(T))\n",
    "    d2 = (np.log(S_0 / K) + (r - 0.5 * sigma ** 2) * T) / (sigma * np.sqrt(T))\n",
    "    \n",
    "    if not is_put:\n",
    "        val = (S_0 * norm.cdf(d1, 0, 1) - K * np.exp(-r * T) * norm.cdf(d2, 0, 1))\n",
    "    else:\n",
    "        val = (K * np.exp(-r * T) * norm.cdf(-d2, 0, 1) - S_0 * norm.cdf(-d1, 0, 1))\n",
    "        \n",
    "    return val"
   ]
  },
  {
   "cell_type": "code",
   "execution_count": 11,
   "metadata": {},
   "outputs": [
    {
     "data": {
      "text/plain": [
       "40.97033101195128"
      ]
     },
     "execution_count": 11,
     "metadata": {},
     "output_type": "execute_result"
    }
   ],
   "source": [
    "black_scholes_analytical(S_0=10,K=52,T=0.5,r=0.04, sigma=0.3, is_put=True)"
   ]
  },
  {
   "cell_type": "code",
   "execution_count": 12,
   "metadata": {},
   "outputs": [
    {
     "data": {
      "text/plain": [
       "11.858479856107131"
      ]
     },
     "execution_count": 12,
     "metadata": {},
     "output_type": "execute_result"
    }
   ],
   "source": [
    "BinomialCRROption(180, 52, r=0.04, T=0.5, N=1008, sigma=2, is_put=True).price()"
   ]
  },
  {
   "cell_type": "code",
   "execution_count": 13,
   "metadata": {},
   "outputs": [
    {
     "data": {
      "text/plain": [
       "11.851464583868397"
      ]
     },
     "execution_count": 13,
     "metadata": {},
     "output_type": "execute_result"
    }
   ],
   "source": [
    "BinomialLROption(180, 52, r=0.04, T=0.5, N=1008, sigma=2, is_put=True).price()"
   ]
  },
  {
   "cell_type": "code",
   "execution_count": 14,
   "metadata": {},
   "outputs": [
    {
     "data": {
      "text/plain": [
       "11.865099031024723"
      ]
     },
     "execution_count": 14,
     "metadata": {},
     "output_type": "execute_result"
    }
   ],
   "source": [
    "black_scholes_analytical(S_0=180,K=52,T=0.5,r=0.04, sigma=2, is_put=True)"
   ]
  },
  {
   "cell_type": "markdown",
   "metadata": {},
   "source": [
    "## Produce American vs. European graphs"
   ]
  },
  {
   "cell_type": "code",
   "execution_count": 15,
   "metadata": {},
   "outputs": [],
   "source": [
    "def putValue(s_0, K):\n",
    "    return np.maximum(K-s_0, 0)\n",
    "\n",
    "def callValue(s_0, K):\n",
    "    return np.maximum(s_0-K, 0)"
   ]
  },
  {
   "cell_type": "code",
   "execution_count": 16,
   "metadata": {},
   "outputs": [],
   "source": [
    "x = np.linspace(0.00000000001,60,1000)"
   ]
  },
  {
   "cell_type": "code",
   "execution_count": 17,
   "metadata": {},
   "outputs": [],
   "source": [
    "import matplotlib.pyplot as plt\n",
    "from matplotlib.pyplot import figure"
   ]
  },
  {
   "cell_type": "code",
   "execution_count": 18,
   "metadata": {},
   "outputs": [],
   "source": [
    "y_euc = [BinomialLROption(i, 32, r=0.04, T=0.5, N=1008, sigma=0.3, is_put=True).price() for i in x]"
   ]
  },
  {
   "cell_type": "code",
   "execution_count": 19,
   "metadata": {},
   "outputs": [],
   "source": [
    "y_amc = [BinomialLROption(i, 32, r=0.04, T=0.5, N=1008, sigma=0.3, is_put=True, is_am=True).price() for i in x]"
   ]
  },
  {
   "cell_type": "code",
   "execution_count": 20,
   "metadata": {},
   "outputs": [
    {
     "data": {
      "image/png": "[encoded data removed]",
      "text/plain": [
       "<Figure size 720x720 with 1 Axes>"
      ]
     },
     "metadata": {
      "needs_background": "light"
     },
     "output_type": "display_data"
    }
   ],
   "source": [
    "figure(figsize=(10,10))\n",
    "plt.plot(x,putValue(s_0=x,K=32), label=\"Intrinsic\")\n",
    "plt.plot(x,y_euc, label=\"European\")\n",
    "plt.plot(x,y_amc, label=\"American\", ls=\"--\")\n",
    "plt.legend()\n",
    "plt.xlabel(\"Spot Price\")\n",
    "plt.ylabel(\"Option Value\")\n",
    "plt.savefig(\"puts.png\")\n",
    "plt.show()"
   ]
  },
  {
   "cell_type": "code",
   "execution_count": 21,
   "metadata": {},
   "outputs": [],
   "source": [
    "x = np.linspace(0.00000000001,60,1000)"
   ]
  },
  {
   "cell_type": "code",
   "execution_count": 22,
   "metadata": {},
   "outputs": [],
   "source": [
    "y_eup = [BinomialLROption(i, 32, r=0.04, T=0.5, N=1008, sigma=0.3, is_put=False).price() for i in x]"
   ]
  },
  {
   "cell_type": "code",
   "execution_count": 23,
   "metadata": {},
   "outputs": [],
   "source": [
    "y_amp = [BinomialLROption(i, 32, r=0.04, T=0.5, N=1008, sigma=0.3, is_put=False, is_am=True).price() for i in x]"
   ]
  },
  {
   "cell_type": "code",
   "execution_count": 24,
   "metadata": {},
   "outputs": [
    {
     "data": {
      "image/png": "[encoded data removed]",
      "text/plain": [
       "<Figure size 720x720 with 1 Axes>"
      ]
     },
     "metadata": {
      "needs_background": "light"
     },
     "output_type": "display_data"
    }
   ],
   "source": [
    "figure(figsize=(10,10))\n",
    "plt.plot(x,callValue(s_0=x,K=32), label=\"Intrinsic\")\n",
    "plt.plot(x,y_eup, label=\"European\")\n",
    "plt.plot(x,y_amp, label=\"American\", ls=\"--\")\n",
    "plt.legend()\n",
    "plt.xlabel(\"Spot Price\")\n",
    "plt.ylabel(\"Option Value\")\n",
    "plt.savefig(\"calls.png\")\n",
    "plt.show()"
   ]
  },
  {
   "cell_type": "markdown",
   "metadata": {},
   "source": [
    "# NEW STUFF FOR PART 2 FROM HERE ONWARD"
   ]
  },
  {
   "cell_type": "markdown",
   "metadata": {},
   "source": [
    "# Trinomial Trees"
   ]
  },
  {
   "cell_type": "code",
   "execution_count": 25,
   "metadata": {},
   "outputs": [],
   "source": [
    "class TrinomialTreeOption(BinomialTreeOption):\n",
    "\n",
    "    def setup_parameters(self):\n",
    "        self.u = math.exp(self.sigma*math.sqrt(2.*self.dt))\n",
    "        self.d = 1/self.u\n",
    "        self.m = 1\n",
    "        self.qu = ((math.exp((self.r-self.div) * self.dt/2.) - math.exp(-self.sigma * math.sqrt(self.dt/2.))) /\n",
    "                   (math.exp(self.sigma * math.sqrt(self.dt/2.)) - math.exp(-self.sigma * math.sqrt(self.dt/2.))))**2\n",
    "        self.qd = ((math.exp(self.sigma * math.sqrt(self.dt/2.)) - math.exp((self.r-self.div) * self.dt/2.)) /\n",
    "                   (math.exp(self.sigma * math.sqrt(self.dt/2.)) - math.exp(-self.sigma * math.sqrt(self.dt/2.))))**2\n",
    "        self.qm = 1 - self.qu - self.qd\n",
    "\n",
    "    def init_underlying_price_tree(self):\n",
    "        # Initialize a 2D tree to add to\n",
    "        self.STs = [np.array([self.s_0])]\n",
    "\n",
    "        for i in range(self.N):\n",
    "            prev_nodes = self.STs[-1]\n",
    "            self.ST = np.concatenate((prev_nodes * self.u, [prev_nodes[-1] * self.m, prev_nodes[-1] * self.d]))\n",
    "            self.STs.append(self.ST)\n",
    "\n",
    "    def calculate_payoffs(self, payoffs):\n",
    "        # Traverse the tree backwards \n",
    "        for i in reversed(range(self.N)):\n",
    "            payoffs = (payoffs[:-2] * self.qu + payoffs[1:-1] * self.qm + payoffs[2:] * self.qd) * self.df\n",
    "\n",
    "            if not self.is_european:\n",
    "                payoffs = self.check_early_exercise(payoffs, i)\n",
    "\n",
    "        return payoffs"
   ]
  },
  {
   "cell_type": "code",
   "execution_count": 26,
   "metadata": {},
   "outputs": [],
   "source": [
    "eu_put = TrinomialTreeOption(50, 52, r=0.05, T=2, N=2, sigma=0.3, is_put=True)"
   ]
  },
  {
   "cell_type": "code",
   "execution_count": 27,
   "metadata": {},
   "outputs": [
    {
     "name": "stdout",
     "output_type": "stream",
     "text": [
      "European put: 6.573565269142496\n"
     ]
    }
   ],
   "source": [
    "print('European put:', eu_put.price())"
   ]
  },
  {
   "cell_type": "code",
   "execution_count": 28,
   "metadata": {},
   "outputs": [],
   "source": [
    "am_option = TrinomialTreeOption(50, 52, r=0.05, T=2, N=2, sigma=0.3, is_put=True, is_am=True)"
   ]
  },
  {
   "cell_type": "code",
   "execution_count": 29,
   "metadata": {},
   "outputs": [
    {
     "name": "stdout",
     "output_type": "stream",
     "text": [
      "American put: 7.161349217272585\n"
     ]
    }
   ],
   "source": [
    "print('American put:', am_option.price())"
   ]
  },
  {
   "cell_type": "markdown",
   "metadata": {},
   "source": [
    "## Generating a table of trinomial option prices"
   ]
  },
  {
   "cell_type": "code",
   "execution_count": 30,
   "metadata": {},
   "outputs": [],
   "source": [
    "prices = [10, 30, 50, 70, 90]\n",
    "is_put = [False, True]\n",
    "is_am = [False, True]"
   ]
  },
  {
   "cell_type": "code",
   "execution_count": 31,
   "metadata": {},
   "outputs": [],
   "source": [
    "import pandas as pd\n",
    "\n",
    "rows_list = []\n",
    "for style in is_am:\n",
    "    for opt_type in is_put:\n",
    "        row = {}\n",
    "        row['is_am']=style\n",
    "        row['is_put']=opt_type\n",
    "        for price in prices:\n",
    "            col = str(price)\n",
    "            row[col] = BinomialCRROption(price, 52, r=0.04, T=0.5, N=6, sigma=1, is_put=opt_type, is_am=style).price()\n",
    "        rows_list.append(row)\n",
    "        \n",
    "        \n",
    "opt_prices = pd.DataFrame(rows_list)"
   ]
  },
  {
   "cell_type": "code",
   "execution_count": 32,
   "metadata": {},
   "outputs": [
    {
     "data": {
      "text/html": [
       "<div>\n",
       "<style scoped>\n",
       "    .dataframe tbody tr th:only-of-type {\n",
       "        vertical-align: middle;\n",
       "    }\n",
       "\n",
       "    .dataframe tbody tr th {\n",
       "        vertical-align: top;\n",
       "    }\n",
       "\n",
       "    .dataframe thead th {\n",
       "        text-align: right;\n",
       "    }\n",
       "</style>\n",
       "<table border=\"1\" class=\"dataframe\">\n",
       "  <thead>\n",
       "    <tr style=\"text-align: right;\">\n",
       "      <th></th>\n",
       "      <th>is_am</th>\n",
       "      <th>is_put</th>\n",
       "      <th>10</th>\n",
       "      <th>30</th>\n",
       "      <th>50</th>\n",
       "      <th>70</th>\n",
       "      <th>90</th>\n",
       "    </tr>\n",
       "  </thead>\n",
       "  <tbody>\n",
       "    <tr>\n",
       "      <th>0</th>\n",
       "      <td>False</td>\n",
       "      <td>False</td>\n",
       "      <td>0.029635</td>\n",
       "      <td>3.225469</td>\n",
       "      <td>13.174447</td>\n",
       "      <td>28.354095</td>\n",
       "      <td>44.114929</td>\n",
       "    </tr>\n",
       "    <tr>\n",
       "      <th>1</th>\n",
       "      <td>False</td>\n",
       "      <td>True</td>\n",
       "      <td>40.999966</td>\n",
       "      <td>24.195800</td>\n",
       "      <td>14.144778</td>\n",
       "      <td>9.324426</td>\n",
       "      <td>5.085260</td>\n",
       "    </tr>\n",
       "    <tr>\n",
       "      <th>2</th>\n",
       "      <td>True</td>\n",
       "      <td>False</td>\n",
       "      <td>0.029635</td>\n",
       "      <td>3.225469</td>\n",
       "      <td>13.174447</td>\n",
       "      <td>28.354095</td>\n",
       "      <td>44.114929</td>\n",
       "    </tr>\n",
       "    <tr>\n",
       "      <th>3</th>\n",
       "      <td>True</td>\n",
       "      <td>True</td>\n",
       "      <td>42.000000</td>\n",
       "      <td>24.526709</td>\n",
       "      <td>14.353000</td>\n",
       "      <td>9.389724</td>\n",
       "      <td>5.150558</td>\n",
       "    </tr>\n",
       "  </tbody>\n",
       "</table>\n",
       "</div>"
      ],
      "text/plain": [
       "   is_am  is_put         10         30         50         70         90\n",
       "0  False   False   0.029635   3.225469  13.174447  28.354095  44.114929\n",
       "1  False    True  40.999966  24.195800  14.144778   9.324426   5.085260\n",
       "2   True   False   0.029635   3.225469  13.174447  28.354095  44.114929\n",
       "3   True    True  42.000000  24.526709  14.353000   9.389724   5.150558"
      ]
     },
     "execution_count": 32,
     "metadata": {},
     "output_type": "execute_result"
    }
   ],
   "source": [
    "opt_prices"
   ]
  },
  {
   "cell_type": "code",
   "execution_count": 33,
   "metadata": {},
   "outputs": [],
   "source": [
    "rows_list = []\n",
    "for style in is_am:\n",
    "    for opt_type in is_put:\n",
    "        row = {}\n",
    "        row['is_am']=style\n",
    "        row['is_put']=opt_type\n",
    "        for price in prices:\n",
    "            col = str(price)\n",
    "            row[col] = TrinomialTreeOption(price, 52, r=0.04, T=0.5, N=6, sigma=1, is_put=opt_type, is_am=style).price()\n",
    "        rows_list.append(row)\n",
    "        \n",
    "        \n",
    "opt_prices_tri = pd.DataFrame(rows_list)"
   ]
  },
  {
   "cell_type": "code",
   "execution_count": 34,
   "metadata": {},
   "outputs": [
    {
     "data": {
      "text/html": [
       "<div>\n",
       "<style scoped>\n",
       "    .dataframe tbody tr th:only-of-type {\n",
       "        vertical-align: middle;\n",
       "    }\n",
       "\n",
       "    .dataframe tbody tr th {\n",
       "        vertical-align: top;\n",
       "    }\n",
       "\n",
       "    .dataframe thead th {\n",
       "        text-align: right;\n",
       "    }\n",
       "</style>\n",
       "<table border=\"1\" class=\"dataframe\">\n",
       "  <thead>\n",
       "    <tr style=\"text-align: right;\">\n",
       "      <th></th>\n",
       "      <th>is_am</th>\n",
       "      <th>is_put</th>\n",
       "      <th>10</th>\n",
       "      <th>30</th>\n",
       "      <th>50</th>\n",
       "      <th>70</th>\n",
       "      <th>90</th>\n",
       "    </tr>\n",
       "  </thead>\n",
       "  <tbody>\n",
       "    <tr>\n",
       "      <th>0</th>\n",
       "      <td>False</td>\n",
       "      <td>False</td>\n",
       "      <td>0.031336</td>\n",
       "      <td>3.580736</td>\n",
       "      <td>13.372588</td>\n",
       "      <td>27.964310</td>\n",
       "      <td>44.674664</td>\n",
       "    </tr>\n",
       "    <tr>\n",
       "      <th>1</th>\n",
       "      <td>False</td>\n",
       "      <td>True</td>\n",
       "      <td>41.001667</td>\n",
       "      <td>24.551067</td>\n",
       "      <td>14.342919</td>\n",
       "      <td>8.934641</td>\n",
       "      <td>5.644995</td>\n",
       "    </tr>\n",
       "    <tr>\n",
       "      <th>2</th>\n",
       "      <td>True</td>\n",
       "      <td>False</td>\n",
       "      <td>0.031336</td>\n",
       "      <td>3.580736</td>\n",
       "      <td>13.372588</td>\n",
       "      <td>27.964310</td>\n",
       "      <td>44.674664</td>\n",
       "    </tr>\n",
       "    <tr>\n",
       "      <th>3</th>\n",
       "      <td>True</td>\n",
       "      <td>True</td>\n",
       "      <td>42.000000</td>\n",
       "      <td>24.820136</td>\n",
       "      <td>14.470768</td>\n",
       "      <td>8.990804</td>\n",
       "      <td>5.662706</td>\n",
       "    </tr>\n",
       "  </tbody>\n",
       "</table>\n",
       "</div>"
      ],
      "text/plain": [
       "   is_am  is_put         10         30         50         70         90\n",
       "0  False   False   0.031336   3.580736  13.372588  27.964310  44.674664\n",
       "1  False    True  41.001667  24.551067  14.342919   8.934641   5.644995\n",
       "2   True   False   0.031336   3.580736  13.372588  27.964310  44.674664\n",
       "3   True    True  42.000000  24.820136  14.470768   8.990804   5.662706"
      ]
     },
     "execution_count": 34,
     "metadata": {},
     "output_type": "execute_result"
    }
   ],
   "source": [
    "opt_prices_tri"
   ]
  },
  {
   "cell_type": "code",
   "execution_count": 35,
   "metadata": {},
   "outputs": [],
   "source": [
    "rows_list = []\n",
    "for opt_type in is_put:\n",
    "    row = {}\n",
    "    row['is_put']=opt_type\n",
    "    for price in prices:\n",
    "        col = str(price)\n",
    "        row[col] = black_scholes_analytical(price, K=52, r=0.04, T=0.5, sigma=1, is_put=opt_type)\n",
    "    rows_list.append(row)\n",
    "        \n",
    "        \n",
    "opt_prices_bs = pd.DataFrame(rows_list)"
   ]
  },
  {
   "cell_type": "code",
   "execution_count": 36,
   "metadata": {},
   "outputs": [
    {
     "data": {
      "text/html": [
       "<div>\n",
       "<style scoped>\n",
       "    .dataframe tbody tr th:only-of-type {\n",
       "        vertical-align: middle;\n",
       "    }\n",
       "\n",
       "    .dataframe tbody tr th {\n",
       "        vertical-align: top;\n",
       "    }\n",
       "\n",
       "    .dataframe thead th {\n",
       "        text-align: right;\n",
       "    }\n",
       "</style>\n",
       "<table border=\"1\" class=\"dataframe\">\n",
       "  <thead>\n",
       "    <tr style=\"text-align: right;\">\n",
       "      <th></th>\n",
       "      <th>is_put</th>\n",
       "      <th>10</th>\n",
       "      <th>30</th>\n",
       "      <th>50</th>\n",
       "      <th>70</th>\n",
       "      <th>90</th>\n",
       "    </tr>\n",
       "  </thead>\n",
       "  <tbody>\n",
       "    <tr>\n",
       "      <th>0</th>\n",
       "      <td>False</td>\n",
       "      <td>0.055021</td>\n",
       "      <td>3.501070</td>\n",
       "      <td>13.470160</td>\n",
       "      <td>27.798794</td>\n",
       "      <td>44.538811</td>\n",
       "    </tr>\n",
       "    <tr>\n",
       "      <th>1</th>\n",
       "      <td>True</td>\n",
       "      <td>41.025352</td>\n",
       "      <td>24.471401</td>\n",
       "      <td>14.440491</td>\n",
       "      <td>8.769125</td>\n",
       "      <td>5.509142</td>\n",
       "    </tr>\n",
       "  </tbody>\n",
       "</table>\n",
       "</div>"
      ],
      "text/plain": [
       "   is_put         10         30         50         70         90\n",
       "0   False   0.055021   3.501070  13.470160  27.798794  44.538811\n",
       "1    True  41.025352  24.471401  14.440491   8.769125   5.509142"
      ]
     },
     "execution_count": 36,
     "metadata": {},
     "output_type": "execute_result"
    }
   ],
   "source": [
    "opt_prices_bs"
   ]
  },
  {
   "cell_type": "code",
   "execution_count": 37,
   "metadata": {},
   "outputs": [],
   "source": [
    "is_tri = [False, True]\n",
    "N_steps = [6, 126, 252, 1008]"
   ]
  },
  {
   "cell_type": "code",
   "execution_count": 38,
   "metadata": {},
   "outputs": [],
   "source": [
    "rows_list = []\n",
    "for price in prices:\n",
    "    for bt in is_tri:\n",
    "        row = {}\n",
    "        row['price'] = price\n",
    "        row['is_tri']=bt\n",
    "        for N_step in N_steps:\n",
    "            col = str(N_step)\n",
    "            if bt:\n",
    "                row[col] = TrinomialTreeOption(price, 52, r=0.04, T=0.5, N=N_step, sigma=1, is_put=False, is_am=True).price()\n",
    "            else:\n",
    "                row[col] = BinomialCRROption(price, 52, r=0.04, T=0.5, N=N_step, sigma=1, is_put=False, is_am=True).price()\n",
    "        rows_list.append(row)\n",
    "        \n",
    "        \n",
    "opt_prices_btcall = pd.DataFrame(rows_list)"
   ]
  },
  {
   "cell_type": "code",
   "execution_count": 39,
   "metadata": {},
   "outputs": [
    {
     "data": {
      "text/html": [
       "<div>\n",
       "<style scoped>\n",
       "    .dataframe tbody tr th:only-of-type {\n",
       "        vertical-align: middle;\n",
       "    }\n",
       "\n",
       "    .dataframe tbody tr th {\n",
       "        vertical-align: top;\n",
       "    }\n",
       "\n",
       "    .dataframe thead th {\n",
       "        text-align: right;\n",
       "    }\n",
       "</style>\n",
       "<table border=\"1\" class=\"dataframe\">\n",
       "  <thead>\n",
       "    <tr style=\"text-align: right;\">\n",
       "      <th></th>\n",
       "      <th>price</th>\n",
       "      <th>is_tri</th>\n",
       "      <th>6</th>\n",
       "      <th>126</th>\n",
       "      <th>252</th>\n",
       "      <th>1008</th>\n",
       "    </tr>\n",
       "  </thead>\n",
       "  <tbody>\n",
       "    <tr>\n",
       "      <th>0</th>\n",
       "      <td>10</td>\n",
       "      <td>False</td>\n",
       "      <td>0.029635</td>\n",
       "      <td>0.053063</td>\n",
       "      <td>0.054643</td>\n",
       "      <td>0.054727</td>\n",
       "    </tr>\n",
       "    <tr>\n",
       "      <th>1</th>\n",
       "      <td>10</td>\n",
       "      <td>True</td>\n",
       "      <td>0.031336</td>\n",
       "      <td>0.054643</td>\n",
       "      <td>0.054642</td>\n",
       "      <td>0.054962</td>\n",
       "    </tr>\n",
       "    <tr>\n",
       "      <th>2</th>\n",
       "      <td>30</td>\n",
       "      <td>False</td>\n",
       "      <td>3.225469</td>\n",
       "      <td>3.510016</td>\n",
       "      <td>3.500052</td>\n",
       "      <td>3.502136</td>\n",
       "    </tr>\n",
       "    <tr>\n",
       "      <th>3</th>\n",
       "      <td>30</td>\n",
       "      <td>True</td>\n",
       "      <td>3.580736</td>\n",
       "      <td>3.500052</td>\n",
       "      <td>3.502343</td>\n",
       "      <td>3.501777</td>\n",
       "    </tr>\n",
       "    <tr>\n",
       "      <th>4</th>\n",
       "      <td>50</td>\n",
       "      <td>False</td>\n",
       "      <td>13.174447</td>\n",
       "      <td>13.487939</td>\n",
       "      <td>13.482459</td>\n",
       "      <td>13.469489</td>\n",
       "    </tr>\n",
       "    <tr>\n",
       "      <th>5</th>\n",
       "      <td>50</td>\n",
       "      <td>True</td>\n",
       "      <td>13.372588</td>\n",
       "      <td>13.482459</td>\n",
       "      <td>13.475704</td>\n",
       "      <td>13.470883</td>\n",
       "    </tr>\n",
       "    <tr>\n",
       "      <th>6</th>\n",
       "      <td>70</td>\n",
       "      <td>False</td>\n",
       "      <td>28.354095</td>\n",
       "      <td>27.819679</td>\n",
       "      <td>27.808485</td>\n",
       "      <td>27.801180</td>\n",
       "    </tr>\n",
       "    <tr>\n",
       "      <th>7</th>\n",
       "      <td>70</td>\n",
       "      <td>True</td>\n",
       "      <td>27.964310</td>\n",
       "      <td>27.808485</td>\n",
       "      <td>27.802581</td>\n",
       "      <td>27.800344</td>\n",
       "    </tr>\n",
       "    <tr>\n",
       "      <th>8</th>\n",
       "      <td>90</td>\n",
       "      <td>False</td>\n",
       "      <td>44.114929</td>\n",
       "      <td>44.553680</td>\n",
       "      <td>44.536355</td>\n",
       "      <td>44.540383</td>\n",
       "    </tr>\n",
       "    <tr>\n",
       "      <th>9</th>\n",
       "      <td>90</td>\n",
       "      <td>True</td>\n",
       "      <td>44.674664</td>\n",
       "      <td>44.536355</td>\n",
       "      <td>44.541655</td>\n",
       "      <td>44.539958</td>\n",
       "    </tr>\n",
       "  </tbody>\n",
       "</table>\n",
       "</div>"
      ],
      "text/plain": [
       "   price  is_tri          6        126        252       1008\n",
       "0     10   False   0.029635   0.053063   0.054643   0.054727\n",
       "1     10    True   0.031336   0.054643   0.054642   0.054962\n",
       "2     30   False   3.225469   3.510016   3.500052   3.502136\n",
       "3     30    True   3.580736   3.500052   3.502343   3.501777\n",
       "4     50   False  13.174447  13.487939  13.482459  13.469489\n",
       "5     50    True  13.372588  13.482459  13.475704  13.470883\n",
       "6     70   False  28.354095  27.819679  27.808485  27.801180\n",
       "7     70    True  27.964310  27.808485  27.802581  27.800344\n",
       "8     90   False  44.114929  44.553680  44.536355  44.540383\n",
       "9     90    True  44.674664  44.536355  44.541655  44.539958"
      ]
     },
     "execution_count": 39,
     "metadata": {},
     "output_type": "execute_result"
    }
   ],
   "source": [
    "opt_prices_btcall"
   ]
  },
  {
   "cell_type": "code",
   "execution_count": 40,
   "metadata": {},
   "outputs": [],
   "source": [
    "rows_list = []\n",
    "for price in prices:\n",
    "    for bt in is_tri:\n",
    "        row = {}\n",
    "        row['price'] = price\n",
    "        row['is_tri']=bt\n",
    "        for N_step in N_steps:\n",
    "            col = str(N_step)\n",
    "            if bt:\n",
    "                row[col] = TrinomialTreeOption(price, 52, r=0.04, T=0.5, N=N_step, sigma=1, is_put=True, is_am=True).price()\n",
    "            else:\n",
    "                row[col] = BinomialCRROption(price, 52, r=0.04, T=0.5, N=N_step, sigma=1, is_put=True, is_am=True).price()\n",
    "        rows_list.append(row)\n",
    "        \n",
    "        \n",
    "opt_prices_btput = pd.DataFrame(rows_list)"
   ]
  },
  {
   "cell_type": "code",
   "execution_count": 41,
   "metadata": {},
   "outputs": [
    {
     "data": {
      "text/html": [
       "<div>\n",
       "<style scoped>\n",
       "    .dataframe tbody tr th:only-of-type {\n",
       "        vertical-align: middle;\n",
       "    }\n",
       "\n",
       "    .dataframe tbody tr th {\n",
       "        vertical-align: top;\n",
       "    }\n",
       "\n",
       "    .dataframe thead th {\n",
       "        text-align: right;\n",
       "    }\n",
       "</style>\n",
       "<table border=\"1\" class=\"dataframe\">\n",
       "  <thead>\n",
       "    <tr style=\"text-align: right;\">\n",
       "      <th></th>\n",
       "      <th>price</th>\n",
       "      <th>is_tri</th>\n",
       "      <th>6</th>\n",
       "      <th>126</th>\n",
       "      <th>252</th>\n",
       "      <th>1008</th>\n",
       "    </tr>\n",
       "  </thead>\n",
       "  <tbody>\n",
       "    <tr>\n",
       "      <th>0</th>\n",
       "      <td>10</td>\n",
       "      <td>False</td>\n",
       "      <td>42.000000</td>\n",
       "      <td>42.000000</td>\n",
       "      <td>42.000000</td>\n",
       "      <td>42.000000</td>\n",
       "    </tr>\n",
       "    <tr>\n",
       "      <th>1</th>\n",
       "      <td>10</td>\n",
       "      <td>True</td>\n",
       "      <td>42.000000</td>\n",
       "      <td>42.000000</td>\n",
       "      <td>42.000000</td>\n",
       "      <td>42.000000</td>\n",
       "    </tr>\n",
       "    <tr>\n",
       "      <th>2</th>\n",
       "      <td>30</td>\n",
       "      <td>False</td>\n",
       "      <td>24.526709</td>\n",
       "      <td>24.758291</td>\n",
       "      <td>24.748179</td>\n",
       "      <td>24.748545</td>\n",
       "    </tr>\n",
       "    <tr>\n",
       "      <th>3</th>\n",
       "      <td>30</td>\n",
       "      <td>True</td>\n",
       "      <td>24.820136</td>\n",
       "      <td>24.746953</td>\n",
       "      <td>24.748406</td>\n",
       "      <td>24.747885</td>\n",
       "    </tr>\n",
       "    <tr>\n",
       "      <th>4</th>\n",
       "      <td>50</td>\n",
       "      <td>False</td>\n",
       "      <td>14.353000</td>\n",
       "      <td>14.568609</td>\n",
       "      <td>14.561265</td>\n",
       "      <td>14.547684</td>\n",
       "    </tr>\n",
       "    <tr>\n",
       "      <th>5</th>\n",
       "      <td>50</td>\n",
       "      <td>True</td>\n",
       "      <td>14.470768</td>\n",
       "      <td>14.560277</td>\n",
       "      <td>14.553444</td>\n",
       "      <td>14.548756</td>\n",
       "    </tr>\n",
       "    <tr>\n",
       "      <th>6</th>\n",
       "      <td>70</td>\n",
       "      <td>False</td>\n",
       "      <td>9.389724</td>\n",
       "      <td>8.841586</td>\n",
       "      <td>8.829926</td>\n",
       "      <td>8.822249</td>\n",
       "    </tr>\n",
       "    <tr>\n",
       "      <th>7</th>\n",
       "      <td>70</td>\n",
       "      <td>True</td>\n",
       "      <td>8.990804</td>\n",
       "      <td>8.829221</td>\n",
       "      <td>8.823644</td>\n",
       "      <td>8.821150</td>\n",
       "    </tr>\n",
       "    <tr>\n",
       "      <th>8</th>\n",
       "      <td>90</td>\n",
       "      <td>False</td>\n",
       "      <td>5.150558</td>\n",
       "      <td>5.551290</td>\n",
       "      <td>5.533711</td>\n",
       "      <td>5.537317</td>\n",
       "    </tr>\n",
       "    <tr>\n",
       "      <th>9</th>\n",
       "      <td>90</td>\n",
       "      <td>True</td>\n",
       "      <td>5.662706</td>\n",
       "      <td>5.533219</td>\n",
       "      <td>5.538660</td>\n",
       "      <td>5.536762</td>\n",
       "    </tr>\n",
       "  </tbody>\n",
       "</table>\n",
       "</div>"
      ],
      "text/plain": [
       "   price  is_tri          6        126        252       1008\n",
       "0     10   False  42.000000  42.000000  42.000000  42.000000\n",
       "1     10    True  42.000000  42.000000  42.000000  42.000000\n",
       "2     30   False  24.526709  24.758291  24.748179  24.748545\n",
       "3     30    True  24.820136  24.746953  24.748406  24.747885\n",
       "4     50   False  14.353000  14.568609  14.561265  14.547684\n",
       "5     50    True  14.470768  14.560277  14.553444  14.548756\n",
       "6     70   False   9.389724   8.841586   8.829926   8.822249\n",
       "7     70    True   8.990804   8.829221   8.823644   8.821150\n",
       "8     90   False   5.150558   5.551290   5.533711   5.537317\n",
       "9     90    True   5.662706   5.533219   5.538660   5.536762"
      ]
     },
     "execution_count": 41,
     "metadata": {},
     "output_type": "execute_result"
    }
   ],
   "source": [
    "opt_prices_btput"
   ]
  },
  {
   "cell_type": "markdown",
   "metadata": {},
   "source": [
    "# Monte Carlo Simulations"
   ]
  },
  {
   "cell_type": "markdown",
   "metadata": {},
   "source": [
    "### Define European option simulator and value calculator as discussed in report"
   ]
  },
  {
   "cell_type": "code",
   "execution_count": 42,
   "metadata": {},
   "outputs": [],
   "source": [
    "def european_option_simulation(S_0, K, T, r, sigma, n_sims, is_put):\n",
    "\n",
    "    rv = np.random.normal(0, 1, size=n_sims)\n",
    "    S_T = S_0 * np.exp((r - 0.5 * sigma**2) * T + sigma * np.sqrt(T) * rv)\n",
    "\n",
    "    if is_put:\n",
    "        payoff = np.maximum(0, K - S_T)\n",
    "    else:\n",
    "        payoff = np.maximum(0, S_T - K)\n",
    "        \n",
    "    premium = np.mean(payoff) * np.exp(-r * T)\n",
    "    return premium"
   ]
  },
  {
   "cell_type": "code",
   "execution_count": 43,
   "metadata": {},
   "outputs": [],
   "source": [
    "prices = [10, 30, 50, 70, 90]\n",
    "is_put = [False, True]"
   ]
  },
  {
   "cell_type": "code",
   "execution_count": 44,
   "metadata": {},
   "outputs": [
    {
     "data": {
      "text/plain": [
       "14.436497569739437"
      ]
     },
     "execution_count": 44,
     "metadata": {},
     "output_type": "execute_result"
    }
   ],
   "source": [
    "european_option_simulation(S_0=50, K=52, T=0.5, r=0.04, sigma=1, n_sims=10000000, is_put=True)"
   ]
  },
  {
   "cell_type": "code",
   "execution_count": 45,
   "metadata": {},
   "outputs": [],
   "source": [
    "rows_list = []\n",
    "for opt_type in is_put:\n",
    "    row = {}\n",
    "    row['is_put']=opt_type\n",
    "    for price in prices:\n",
    "        col = str(price)\n",
    "        row[col] = european_option_simulation(price, K=52, r=0.04, T=0.5, sigma=1, n_sims=1000000, is_put=opt_type)\n",
    "    rows_list.append(row)\n",
    "        \n",
    "        \n",
    "opt_prices_mc = pd.DataFrame(rows_list)"
   ]
  },
  {
   "cell_type": "code",
   "execution_count": 46,
   "metadata": {},
   "outputs": [
    {
     "data": {
      "text/html": [
       "<div>\n",
       "<style scoped>\n",
       "    .dataframe tbody tr th:only-of-type {\n",
       "        vertical-align: middle;\n",
       "    }\n",
       "\n",
       "    .dataframe tbody tr th {\n",
       "        vertical-align: top;\n",
       "    }\n",
       "\n",
       "    .dataframe thead th {\n",
       "        text-align: right;\n",
       "    }\n",
       "</style>\n",
       "<table border=\"1\" class=\"dataframe\">\n",
       "  <thead>\n",
       "    <tr style=\"text-align: right;\">\n",
       "      <th></th>\n",
       "      <th>is_put</th>\n",
       "      <th>10</th>\n",
       "      <th>30</th>\n",
       "      <th>50</th>\n",
       "      <th>70</th>\n",
       "      <th>90</th>\n",
       "    </tr>\n",
       "  </thead>\n",
       "  <tbody>\n",
       "    <tr>\n",
       "      <th>0</th>\n",
       "      <td>False</td>\n",
       "      <td>0.052700</td>\n",
       "      <td>3.482699</td>\n",
       "      <td>13.427963</td>\n",
       "      <td>27.932313</td>\n",
       "      <td>44.564037</td>\n",
       "    </tr>\n",
       "    <tr>\n",
       "      <th>1</th>\n",
       "      <td>True</td>\n",
       "      <td>41.028082</td>\n",
       "      <td>24.481549</td>\n",
       "      <td>14.452368</td>\n",
       "      <td>8.778316</td>\n",
       "      <td>5.524531</td>\n",
       "    </tr>\n",
       "  </tbody>\n",
       "</table>\n",
       "</div>"
      ],
      "text/plain": [
       "   is_put         10         30         50         70         90\n",
       "0   False   0.052700   3.482699  13.427963  27.932313  44.564037\n",
       "1    True  41.028082  24.481549  14.452368   8.778316   5.524531"
      ]
     },
     "execution_count": 46,
     "metadata": {},
     "output_type": "execute_result"
    }
   ],
   "source": [
    "opt_prices_mc"
   ]
  },
  {
   "cell_type": "markdown",
   "metadata": {},
   "source": [
    "## Do the same for American option"
   ]
  },
  {
   "cell_type": "markdown",
   "metadata": {},
   "source": [
    "### This time, we need the whole path of the of price of the underlying to take into account the possibility of early exercise. For this we make a support function to generate underlying paths"
   ]
  },
  {
   "cell_type": "code",
   "execution_count": 47,
   "metadata": {},
   "outputs": [],
   "source": [
    "def simulate_gbm(S_0, mu, sigma,  T, N, n_sims):\n",
    "\n",
    "    dt = T/N\n",
    "    dW = np.random.normal(scale=np.sqrt(dt),size=(n_sims, N + 1))\n",
    "    S_t = S_0 * np.exp(np.cumsum((mu - 0.5 * sigma ** 2) * dt + sigma * dW,axis=1))\n",
    "    S_t[:, 0] = S_0\n",
    "\n",
    "    return S_t"
   ]
  },
  {
   "cell_type": "code",
   "execution_count": 48,
   "metadata": {},
   "outputs": [],
   "source": [
    "def lsmc_american_option(S_0, K, T, N, r, sigma, is_put, poly_degree, n_sims):\n",
    "    \n",
    "    dt = T / N\n",
    "    discount_factor = np.exp(-r * dt)\n",
    "\n",
    "    gbm_simulations = simulate_gbm(S_0=S_0, mu=r, sigma=sigma, n_sims=n_sims, T=T, N=N,)\n",
    "\n",
    "    if is_put:\n",
    "        payoff_matrix = np.maximum(K - gbm_simulations, np.zeros_like(gbm_simulations))\n",
    "    else:\n",
    "        payoff_matrix = np.maximum(gbm_simulations - K, np.zeros_like(gbm_simulations))\n",
    "    \n",
    "    value_matrix = np.zeros_like(payoff_matrix)\n",
    "    value_matrix[:, -1] = payoff_matrix[:, -1]\n",
    "\n",
    "    for t in range(N - 1, 0, -1):\n",
    "        regression = np.polyfit(gbm_simulations[:, t], value_matrix[:, t + 1] * discount_factor, poly_degree)\n",
    "        continuation_value = np.polyval(regression, gbm_simulations[:, t])\n",
    "        value_matrix[:, t] = np.where(payoff_matrix[:, t] > continuation_value, payoff_matrix[:, t], value_matrix[:, t + 1] * discount_factor)\n",
    "\n",
    "    option_premium = np.mean(value_matrix[:, 1] * discount_factor)\n",
    "    return option_premium"
   ]
  },
  {
   "cell_type": "code",
   "execution_count": 49,
   "metadata": {},
   "outputs": [],
   "source": [
    "# N_SIMS 10000 takes a handful of seconds, N_SIMS 100000 takes a few minutes, N_SIMS 1000000 takes more than two hours\n",
    "N_SIMS = 100000\n",
    "N_steps = [6, 126, 252, 1008]\n",
    "prices = [10, 30, 50, 70, 90]"
   ]
  },
  {
   "cell_type": "code",
   "execution_count": 50,
   "metadata": {},
   "outputs": [],
   "source": [
    "rows_list = []\n",
    "for price in prices:\n",
    "    row = {}\n",
    "    row['price'] = price\n",
    "    for N_step in N_steps:\n",
    "        col = str(N_step)\n",
    "        row[col] = lsmc_american_option(price, 52, r=0.04, T=0.5, N=N_step, sigma=1, poly_degree=5, n_sims=N_SIMS, is_put=True)\n",
    "    \n",
    "    rows_list.append(row)\n",
    "        \n",
    "        \n",
    "opt_prices_lsmc = pd.DataFrame(rows_list)"
   ]
  },
  {
   "cell_type": "code",
   "execution_count": 51,
   "metadata": {},
   "outputs": [
    {
     "data": {
      "text/html": [
       "<div>\n",
       "<style scoped>\n",
       "    .dataframe tbody tr th:only-of-type {\n",
       "        vertical-align: middle;\n",
       "    }\n",
       "\n",
       "    .dataframe tbody tr th {\n",
       "        vertical-align: top;\n",
       "    }\n",
       "\n",
       "    .dataframe thead th {\n",
       "        text-align: right;\n",
       "    }\n",
       "</style>\n",
       "<table border=\"1\" class=\"dataframe\">\n",
       "  <thead>\n",
       "    <tr style=\"text-align: right;\">\n",
       "      <th></th>\n",
       "      <th>price</th>\n",
       "      <th>6</th>\n",
       "      <th>126</th>\n",
       "      <th>252</th>\n",
       "      <th>1008</th>\n",
       "    </tr>\n",
       "  </thead>\n",
       "  <tbody>\n",
       "    <tr>\n",
       "      <th>0</th>\n",
       "      <td>10</td>\n",
       "      <td>41.854659</td>\n",
       "      <td>41.990883</td>\n",
       "      <td>41.992927</td>\n",
       "      <td>41.999558</td>\n",
       "    </tr>\n",
       "    <tr>\n",
       "      <th>1</th>\n",
       "      <td>30</td>\n",
       "      <td>25.323639</td>\n",
       "      <td>24.574165</td>\n",
       "      <td>24.504287</td>\n",
       "      <td>24.579356</td>\n",
       "    </tr>\n",
       "    <tr>\n",
       "      <th>2</th>\n",
       "      <td>50</td>\n",
       "      <td>15.473008</td>\n",
       "      <td>14.218419</td>\n",
       "      <td>14.182684</td>\n",
       "      <td>14.083370</td>\n",
       "    </tr>\n",
       "    <tr>\n",
       "      <th>3</th>\n",
       "      <td>70</td>\n",
       "      <td>9.671019</td>\n",
       "      <td>8.322857</td>\n",
       "      <td>8.288023</td>\n",
       "      <td>8.158809</td>\n",
       "    </tr>\n",
       "    <tr>\n",
       "      <th>4</th>\n",
       "      <td>90</td>\n",
       "      <td>6.385099</td>\n",
       "      <td>4.932022</td>\n",
       "      <td>4.873794</td>\n",
       "      <td>4.708622</td>\n",
       "    </tr>\n",
       "  </tbody>\n",
       "</table>\n",
       "</div>"
      ],
      "text/plain": [
       "   price          6        126        252       1008\n",
       "0     10  41.854659  41.990883  41.992927  41.999558\n",
       "1     30  25.323639  24.574165  24.504287  24.579356\n",
       "2     50  15.473008  14.218419  14.182684  14.083370\n",
       "3     70   9.671019   8.322857   8.288023   8.158809\n",
       "4     90   6.385099   4.932022   4.873794   4.708622"
      ]
     },
     "execution_count": 51,
     "metadata": {},
     "output_type": "execute_result"
    }
   ],
   "source": [
    "opt_prices_lsmc"
   ]
  },
  {
   "cell_type": "code",
   "execution_count": 52,
   "metadata": {},
   "outputs": [],
   "source": [
    "opt_prices_lsmc_put_100000 = opt_prices_lsmc"
   ]
  },
  {
   "cell_type": "code",
   "execution_count": 53,
   "metadata": {},
   "outputs": [
    {
     "ename": "NameError",
     "evalue": "name 'opt_prices_lsmc_call_100000' is not defined",
     "output_type": "error",
     "traceback": [
      "\u001b[1;31m---------------------------------------------------------------------------\u001b[0m",
      "\u001b[1;31mNameError\u001b[0m                                 Traceback (most recent call last)",
      "\u001b[1;32m<ipython-input-53-1095c137fc7c>\u001b[0m in \u001b[0;36m<module>\u001b[1;34m\u001b[0m\n\u001b[1;32m----> 1\u001b[1;33m \u001b[0mopt_prices_lsmc_call_100000\u001b[0m\u001b[1;33m\u001b[0m\u001b[1;33m\u001b[0m\u001b[0m\n\u001b[0m",
      "\u001b[1;31mNameError\u001b[0m: name 'opt_prices_lsmc_call_100000' is not defined"
     ]
    }
   ],
   "source": [
    "opt_prices_lsmc_call_100000"
   ]
  },
  {
   "cell_type": "code",
   "execution_count": 54,
   "metadata": {},
   "outputs": [
    {
     "data": {
      "text/html": [
       "<div>\n",
       "<style scoped>\n",
       "    .dataframe tbody tr th:only-of-type {\n",
       "        vertical-align: middle;\n",
       "    }\n",
       "\n",
       "    .dataframe tbody tr th {\n",
       "        vertical-align: top;\n",
       "    }\n",
       "\n",
       "    .dataframe thead th {\n",
       "        text-align: right;\n",
       "    }\n",
       "</style>\n",
       "<table border=\"1\" class=\"dataframe\">\n",
       "  <thead>\n",
       "    <tr style=\"text-align: right;\">\n",
       "      <th></th>\n",
       "      <th>price</th>\n",
       "      <th>6</th>\n",
       "      <th>126</th>\n",
       "      <th>252</th>\n",
       "      <th>1008</th>\n",
       "    </tr>\n",
       "  </thead>\n",
       "  <tbody>\n",
       "    <tr>\n",
       "      <th>0</th>\n",
       "      <td>10</td>\n",
       "      <td>41.854659</td>\n",
       "      <td>41.990883</td>\n",
       "      <td>41.992927</td>\n",
       "      <td>41.999558</td>\n",
       "    </tr>\n",
       "    <tr>\n",
       "      <th>1</th>\n",
       "      <td>30</td>\n",
       "      <td>25.323639</td>\n",
       "      <td>24.574165</td>\n",
       "      <td>24.504287</td>\n",
       "      <td>24.579356</td>\n",
       "    </tr>\n",
       "    <tr>\n",
       "      <th>2</th>\n",
       "      <td>50</td>\n",
       "      <td>15.473008</td>\n",
       "      <td>14.218419</td>\n",
       "      <td>14.182684</td>\n",
       "      <td>14.083370</td>\n",
       "    </tr>\n",
       "    <tr>\n",
       "      <th>3</th>\n",
       "      <td>70</td>\n",
       "      <td>9.671019</td>\n",
       "      <td>8.322857</td>\n",
       "      <td>8.288023</td>\n",
       "      <td>8.158809</td>\n",
       "    </tr>\n",
       "    <tr>\n",
       "      <th>4</th>\n",
       "      <td>90</td>\n",
       "      <td>6.385099</td>\n",
       "      <td>4.932022</td>\n",
       "      <td>4.873794</td>\n",
       "      <td>4.708622</td>\n",
       "    </tr>\n",
       "  </tbody>\n",
       "</table>\n",
       "</div>"
      ],
      "text/plain": [
       "   price          6        126        252       1008\n",
       "0     10  41.854659  41.990883  41.992927  41.999558\n",
       "1     30  25.323639  24.574165  24.504287  24.579356\n",
       "2     50  15.473008  14.218419  14.182684  14.083370\n",
       "3     70   9.671019   8.322857   8.288023   8.158809\n",
       "4     90   6.385099   4.932022   4.873794   4.708622"
      ]
     },
     "execution_count": 54,
     "metadata": {},
     "output_type": "execute_result"
    }
   ],
   "source": [
    "opt_prices_lsmc_put_100000"
   ]
  },
  {
   "cell_type": "markdown",
   "metadata": {},
   "source": [
    "# NEW STUFF FROM HERE ON"
   ]
  },
  {
   "cell_type": "markdown",
   "metadata": {},
   "source": [
    "# FINITE DIFFERENCES"
   ]
  },
  {
   "cell_type": "markdown",
   "metadata": {},
   "source": [
    "### First we write our base FiniteDifferences abstract class from which the explicit, implicit, and Crank-Nicolson methods will be derived"
   ]
  },
  {
   "cell_type": "code",
   "execution_count": 55,
   "metadata": {},
   "outputs": [],
   "source": [
    "from abc import ABC, abstractmethod\n",
    "\n",
    "class FiniteDifferences(object):\n",
    "\n",
    "    def __init__(self, S0, K, r=0.05, T=1, sigma=0, Smax=1, M=1, N=1, is_put=False):\n",
    "        self.S0 = S0\n",
    "        self.K = K\n",
    "        self.r = r\n",
    "        self.T = T\n",
    "        self.sigma = sigma\n",
    "        self.Smax = Smax\n",
    "        self.M, self.N = M, N\n",
    "        self.is_call = not is_put\n",
    "\n",
    "        self.i_values = np.arange(self.M)\n",
    "        self.j_values = np.arange(self.N)\n",
    "        self.grid = np.zeros(shape=(self.M+1, self.N+1))\n",
    "        self.boundary_conds = np.linspace(0, Smax, self.M+1)\n",
    "\n",
    "    @property\n",
    "    def dS(self):\n",
    "        return self.Smax/float(self.M)\n",
    "\n",
    "    @property\n",
    "    def dt(self):\n",
    "        return self.T/float(self.N)\n",
    "\n",
    "    @abstractmethod\n",
    "    def setup_boundary_conditions(self):\n",
    "        raise NotImplementedError('Implementation required!')\n",
    "\n",
    "    @abstractmethod\n",
    "    def setup_coefficients(self):\n",
    "        raise NotImplementedError('Implementation required!')\n",
    "         \n",
    "    @abstractmethod\n",
    "    def traverse_grid(self):\n",
    "        # pass it along\n",
    "        raise NotImplementedError('Implementation required!')\n",
    "\n",
    "    @abstractmethod\n",
    "    def interpolate(self):\n",
    "        # in case s0 not on grid, must interpolte\n",
    "        return np.interp(self.S0, self.boundary_conds, self.grid[:,0])\n",
    "\n",
    "    def price(self):\n",
    "        self.setup_boundary_conditions()\n",
    "        self.setup_coefficients()\n",
    "        self.traverse_grid()\n",
    "        return self.interpolate()"
   ]
  },
  {
   "cell_type": "markdown",
   "metadata": {},
   "source": [
    "### First, the explicit method"
   ]
  },
  {
   "cell_type": "code",
   "execution_count": 56,
   "metadata": {},
   "outputs": [],
   "source": [
    "class FDExplicitEu(FiniteDifferences):\n",
    "\n",
    "    def setup_boundary_conditions(self):\n",
    "        if self.is_call:\n",
    "            self.grid[:,-1] = np.maximum(0, self.boundary_conds - self.K)\n",
    "            self.grid[-1,:-1] = (self.Smax - self.K) * np.exp(-self.r * self.dt * (self.N - self.j_values))\n",
    "        else:\n",
    "            self.grid[:,-1] = np.maximum(0, self.K - self.boundary_conds)\n",
    "            self.grid[0,:-1] = (self.K - self.Smax) * np.exp(-self.r * self.dt * (self.N - self.j_values))\n",
    "\n",
    "    def setup_coefficients(self):\n",
    "        self.a = 0.5*self.dt*((self.sigma**2) * (self.i_values**2) - self.r*self.i_values)\n",
    "        self.b = 1 - self.dt*((self.sigma**2) * (self.i_values**2) + self.r)\n",
    "        self.c = 0.5*self.dt*((self.sigma**2) * (self.i_values**2) + self.r*self.i_values)\n",
    "\n",
    "    def traverse_grid(self):\n",
    "        for j in reversed(self.j_values):\n",
    "            for i in range(self.M)[2:]:\n",
    "                self.grid[i,j] = self.a[i] * self.grid[i-1,j+1] + self.b[i] * self.grid[i,j+1] + self.c[i] * self.grid[i+1,j+1]"
   ]
  },
  {
   "cell_type": "code",
   "execution_count": 57,
   "metadata": {},
   "outputs": [],
   "source": [
    "import pandas as pd\n",
    "\n",
    "rows_list = []\n",
    "for opt_type in is_put:\n",
    "    row = {}\n",
    "    row['is_put']=opt_type\n",
    "    for price in prices:\n",
    "        col = str(price)\n",
    "        row[col] = FDExplicitEu(price, K=52, r=0.04, T=0.5, sigma=0.3, Smax=100, M=100, N=1008, is_put=opt_type).price()\n",
    "    rows_list.append(row)\n",
    "        \n",
    "        \n",
    "opt_prices_fdexp = pd.DataFrame(rows_list)"
   ]
  },
  {
   "cell_type": "code",
   "execution_count": 58,
   "metadata": {},
   "outputs": [
    {
     "data": {
      "text/html": [
       "<div>\n",
       "<style scoped>\n",
       "    .dataframe tbody tr th:only-of-type {\n",
       "        vertical-align: middle;\n",
       "    }\n",
       "\n",
       "    .dataframe tbody tr th {\n",
       "        vertical-align: top;\n",
       "    }\n",
       "\n",
       "    .dataframe thead th {\n",
       "        text-align: right;\n",
       "    }\n",
       "</style>\n",
       "<table border=\"1\" class=\"dataframe\">\n",
       "  <thead>\n",
       "    <tr style=\"text-align: right;\">\n",
       "      <th></th>\n",
       "      <th>is_put</th>\n",
       "      <th>10</th>\n",
       "      <th>30</th>\n",
       "      <th>50</th>\n",
       "      <th>70</th>\n",
       "      <th>90</th>\n",
       "    </tr>\n",
       "  </thead>\n",
       "  <tbody>\n",
       "    <tr>\n",
       "      <th>0</th>\n",
       "      <td>False</td>\n",
       "      <td>4.628250e-13</td>\n",
       "      <td>0.016859</td>\n",
       "      <td>3.792571</td>\n",
       "      <td>19.3479</td>\n",
       "      <td>38.216826</td>\n",
       "    </tr>\n",
       "    <tr>\n",
       "      <th>1</th>\n",
       "      <td>True</td>\n",
       "      <td>4.097032e+01</td>\n",
       "      <td>20.987180</td>\n",
       "      <td>4.763167</td>\n",
       "      <td>0.3729</td>\n",
       "      <td>0.015708</td>\n",
       "    </tr>\n",
       "  </tbody>\n",
       "</table>\n",
       "</div>"
      ],
      "text/plain": [
       "   is_put            10         30        50       70         90\n",
       "0   False  4.628250e-13   0.016859  3.792571  19.3479  38.216826\n",
       "1    True  4.097032e+01  20.987180  4.763167   0.3729   0.015708"
      ]
     },
     "execution_count": 58,
     "metadata": {},
     "output_type": "execute_result"
    }
   ],
   "source": [
    "opt_prices_fdexp"
   ]
  },
  {
   "cell_type": "markdown",
   "metadata": {},
   "source": [
    "### Now, the implicit method"
   ]
  },
  {
   "cell_type": "code",
   "execution_count": 59,
   "metadata": {},
   "outputs": [],
   "source": [
    "import scipy.linalg as linalg\n",
    "\n",
    "class FDImplicitEu(FDExplicitEu):\n",
    "\n",
    "    def setup_coefficients(self):\n",
    "        self.a = 0.5*(self.r*self.dt*self.i_values - (self.sigma**2)*self.dt* (self.i_values**2))\n",
    "        self.b = 1 + (self.sigma**2)*self.dt * (self.i_values**2) + self.r*self.dt\n",
    "        self.c = -0.5*(self.r*self.dt*self.i_values + (self.sigma**2)*self.dt* (self.i_values**2))\n",
    "        self.coeffs = np.diag(self.a[2:self.M],-1) + np.diag(self.b[1:self.M]) + np.diag(self.c[1:self.M-1],1)\n",
    "\n",
    "    def traverse_grid(self):\n",
    "        # Solve using LU factorization\n",
    "        P, L, U = linalg.lu(self.coeffs)\n",
    "        aux = np.zeros(self.M-1)\n",
    "\n",
    "        for j in reversed(range(self.N)):\n",
    "            aux[0] = np.dot(-self.a[1], self.grid[0, j])\n",
    "            x1 = linalg.solve(L, self.grid[1:self.M, j+1]+aux)\n",
    "            x2 = linalg.solve(U, x1)\n",
    "            self.grid[1:self.M, j] = x2"
   ]
  },
  {
   "cell_type": "code",
   "execution_count": 60,
   "metadata": {},
   "outputs": [],
   "source": [
    "import pandas as pd\n",
    "\n",
    "rows_list = []\n",
    "for opt_type in is_put:\n",
    "    row = {}\n",
    "    row['is_put']=opt_type\n",
    "    for price in prices:\n",
    "        col = str(price)\n",
    "        row[col] = FDImplicitEu(price, K=52, r=0.04, T=0.5, sigma=0.3, Smax=200, M=500, N=1008, is_put=opt_type).price()\n",
    "    rows_list.append(row)\n",
    "        \n",
    "        \n",
    "opt_prices_fdimp5 = pd.DataFrame(rows_list)"
   ]
  },
  {
   "cell_type": "code",
   "execution_count": 61,
   "metadata": {},
   "outputs": [
    {
     "ename": "NameError",
     "evalue": "name 'opt_prices_fdimp' is not defined",
     "output_type": "error",
     "traceback": [
      "\u001b[1;31m---------------------------------------------------------------------------\u001b[0m",
      "\u001b[1;31mNameError\u001b[0m                                 Traceback (most recent call last)",
      "\u001b[1;32m<ipython-input-61-0377a157e3ad>\u001b[0m in \u001b[0;36m<module>\u001b[1;34m\u001b[0m\n\u001b[0;32m      1\u001b[0m \u001b[1;31m# M=1000\u001b[0m\u001b[1;33m\u001b[0m\u001b[1;33m\u001b[0m\u001b[1;33m\u001b[0m\u001b[0m\n\u001b[1;32m----> 2\u001b[1;33m \u001b[0mopt_prices_fdimp\u001b[0m\u001b[1;33m\u001b[0m\u001b[1;33m\u001b[0m\u001b[0m\n\u001b[0m",
      "\u001b[1;31mNameError\u001b[0m: name 'opt_prices_fdimp' is not defined"
     ]
    }
   ],
   "source": [
    "# M=1000\n",
    "opt_prices_fdimp"
   ]
  },
  {
   "cell_type": "code",
   "execution_count": null,
   "metadata": {},
   "outputs": [],
   "source": [
    "# M=100\n",
    "opt_prices_fdimp2"
   ]
  },
  {
   "cell_type": "code",
   "execution_count": null,
   "metadata": {},
   "outputs": [],
   "source": [
    "# sigma = 1\n",
    "opt_prices_fdimp3"
   ]
  },
  {
   "cell_type": "code",
   "execution_count": null,
   "metadata": {},
   "outputs": [],
   "source": [
    "# smax = 200\n",
    "opt_prices_fdimp4"
   ]
  },
  {
   "cell_type": "code",
   "execution_count": 62,
   "metadata": {},
   "outputs": [
    {
     "data": {
      "text/html": [
       "<div>\n",
       "<style scoped>\n",
       "    .dataframe tbody tr th:only-of-type {\n",
       "        vertical-align: middle;\n",
       "    }\n",
       "\n",
       "    .dataframe tbody tr th {\n",
       "        vertical-align: top;\n",
       "    }\n",
       "\n",
       "    .dataframe thead th {\n",
       "        text-align: right;\n",
       "    }\n",
       "</style>\n",
       "<table border=\"1\" class=\"dataframe\">\n",
       "  <thead>\n",
       "    <tr style=\"text-align: right;\">\n",
       "      <th></th>\n",
       "      <th>is_put</th>\n",
       "      <th>10</th>\n",
       "      <th>30</th>\n",
       "      <th>50</th>\n",
       "      <th>70</th>\n",
       "      <th>90</th>\n",
       "    </tr>\n",
       "  </thead>\n",
       "  <tbody>\n",
       "    <tr>\n",
       "      <th>0</th>\n",
       "      <td>False</td>\n",
       "      <td>2.464660e-14</td>\n",
       "      <td>0.016783</td>\n",
       "      <td>3.795524</td>\n",
       "      <td>19.403211</td>\n",
       "      <td>39.022171</td>\n",
       "    </tr>\n",
       "    <tr>\n",
       "      <th>1</th>\n",
       "      <td>True</td>\n",
       "      <td>4.097034e+01</td>\n",
       "      <td>20.987124</td>\n",
       "      <td>4.765865</td>\n",
       "      <td>0.373662</td>\n",
       "      <td>0.016283</td>\n",
       "    </tr>\n",
       "  </tbody>\n",
       "</table>\n",
       "</div>"
      ],
      "text/plain": [
       "   is_put            10         30        50         70         90\n",
       "0   False  2.464660e-14   0.016783  3.795524  19.403211  39.022171\n",
       "1    True  4.097034e+01  20.987124  4.765865   0.373662   0.016283"
      ]
     },
     "execution_count": 62,
     "metadata": {},
     "output_type": "execute_result"
    }
   ],
   "source": [
    "# smax=200 and M=500\n",
    "opt_prices_fdimp5"
   ]
  },
  {
   "cell_type": "markdown",
   "metadata": {},
   "source": [
    "### Lastly, the Crank-Nicolson Method"
   ]
  },
  {
   "cell_type": "code",
   "execution_count": 63,
   "metadata": {},
   "outputs": [],
   "source": [
    "class FDCnEu(FDExplicitEu):\n",
    "\n",
    "    def setup_coefficients(self):\n",
    "        self.alpha = 0.25*self.dt*((self.sigma**2)*(self.i_values**2) - self.r*self.i_values)\n",
    "        self.beta = -self.dt*0.5*((self.sigma**2)*(self.i_values**2) + self.r)\n",
    "        self.gamma = 0.25*self.dt*((self.sigma**2)*(self.i_values**2) + self.r*self.i_values)\n",
    "        self.M1 = -np.diag(self.alpha[2:self.M], -1) + np.diag(1-self.beta[1:self.M]) - np.diag(self.gamma[1:self.M-1], 1)\n",
    "        self.M2 = np.diag(self.alpha[2:self.M], -1) + np.diag(1+self.beta[1:self.M]) + np.diag(self.gamma[1:self.M-1], 1)\n",
    "\n",
    "    def traverse_grid(self):\n",
    "        # again, solve using LU factorization\n",
    "        P, L, U = linalg.lu(self.M1)\n",
    "\n",
    "        for j in reversed(range(self.N)):\n",
    "            x1 = linalg.solve(L, np.dot(self.M2, self.grid[1:self.M, j+1]))\n",
    "            x2 = linalg.solve(U, x1)\n",
    "            self.grid[1:self.M, j] = x2"
   ]
  },
  {
   "cell_type": "code",
   "execution_count": 64,
   "metadata": {},
   "outputs": [],
   "source": [
    "rows_list = []\n",
    "for opt_type in is_put:\n",
    "    row = {}\n",
    "    row['is_put']=opt_type\n",
    "    for price in prices:\n",
    "        col = str(price)\n",
    "        row[col] = FDCnEu(price, K=52, r=0.04, T=0.5, sigma=0.3, Smax=200, M=500, N=1008, is_put=opt_type).price()\n",
    "    rows_list.append(row)\n",
    "        \n",
    "        \n",
    "opt_prices_fdcn = pd.DataFrame(rows_list)"
   ]
  },
  {
   "cell_type": "code",
   "execution_count": 65,
   "metadata": {},
   "outputs": [
    {
     "data": {
      "text/html": [
       "<div>\n",
       "<style scoped>\n",
       "    .dataframe tbody tr th:only-of-type {\n",
       "        vertical-align: middle;\n",
       "    }\n",
       "\n",
       "    .dataframe tbody tr th {\n",
       "        vertical-align: top;\n",
       "    }\n",
       "\n",
       "    .dataframe thead th {\n",
       "        text-align: right;\n",
       "    }\n",
       "</style>\n",
       "<table border=\"1\" class=\"dataframe\">\n",
       "  <thead>\n",
       "    <tr style=\"text-align: right;\">\n",
       "      <th></th>\n",
       "      <th>is_put</th>\n",
       "      <th>10</th>\n",
       "      <th>30</th>\n",
       "      <th>50</th>\n",
       "      <th>70</th>\n",
       "      <th>90</th>\n",
       "    </tr>\n",
       "  </thead>\n",
       "  <tbody>\n",
       "    <tr>\n",
       "      <th>0</th>\n",
       "      <td>False</td>\n",
       "      <td>1.722585e-14</td>\n",
       "      <td>0.016673</td>\n",
       "      <td>3.796039</td>\n",
       "      <td>19.403094</td>\n",
       "      <td>39.022564</td>\n",
       "    </tr>\n",
       "    <tr>\n",
       "      <th>1</th>\n",
       "      <td>True</td>\n",
       "      <td>4.097033e+01</td>\n",
       "      <td>20.987004</td>\n",
       "      <td>4.766370</td>\n",
       "      <td>0.373528</td>\n",
       "      <td>0.016183</td>\n",
       "    </tr>\n",
       "  </tbody>\n",
       "</table>\n",
       "</div>"
      ],
      "text/plain": [
       "   is_put            10         30        50         70         90\n",
       "0   False  1.722585e-14   0.016673  3.796039  19.403094  39.022564\n",
       "1    True  4.097033e+01  20.987004  4.766370   0.373528   0.016183"
      ]
     },
     "execution_count": 65,
     "metadata": {},
     "output_type": "execute_result"
    }
   ],
   "source": [
    "opt_prices_fdcn"
   ]
  },
  {
   "cell_type": "markdown",
   "metadata": {},
   "source": [
    "### Using CN with Exotic Down-and-Out Barrier Option"
   ]
  },
  {
   "cell_type": "code",
   "execution_count": 66,
   "metadata": {},
   "outputs": [],
   "source": [
    "class FDCnDo(FDCnEu):\n",
    "\n",
    "    def __init__(self, S0, K, r=0.05, T=1, sigma=0, Sbarrier=0, Smax=1, M=1, N=1, is_put=False):\n",
    "        \n",
    "        super(FDCnDo, self).__init__(S0, K, r=r, T=T, sigma=sigma, Smax=Smax, M=M, N=N, is_put=is_put)\n",
    "        self.barrier = Sbarrier\n",
    "        self.boundary_conds = np.linspace(Sbarrier, Smax, M+1)\n",
    "        self.i_values = self.boundary_conds/self.dS\n",
    "\n",
    "    @property\n",
    "    def dS(self):\n",
    "        return (self.Smax-self.barrier)/float(self.M)"
   ]
  },
  {
   "cell_type": "code",
   "execution_count": 67,
   "metadata": {},
   "outputs": [
    {
     "data": {
      "text/plain": [
       "3.7535773861314565"
      ]
     },
     "execution_count": 67,
     "metadata": {},
     "output_type": "execute_result"
    }
   ],
   "source": [
    "FDCnDo(50, 52, r=0.04, T=0.5, sigma=0.3, Sbarrier=40, Smax=200, M=500, N=1008).price()"
   ]
  },
  {
   "cell_type": "code",
   "execution_count": 68,
   "metadata": {},
   "outputs": [
    {
     "data": {
      "text/plain": [
       "0.0"
      ]
     },
     "execution_count": 68,
     "metadata": {},
     "output_type": "execute_result"
    }
   ],
   "source": [
    "FDCnDo(30, 52, r=0.04, T=0.5, sigma=0.3, Sbarrier=40, Smax=200, M=500, N=1008).price()"
   ]
  },
  {
   "cell_type": "code",
   "execution_count": 69,
   "metadata": {},
   "outputs": [
    {
     "data": {
      "text/plain": [
       "0.29654584821748015"
      ]
     },
     "execution_count": 69,
     "metadata": {},
     "output_type": "execute_result"
    }
   ],
   "source": [
    "FDCnDo(41, 52, r=0.04, T=0.5, sigma=0.3, Sbarrier=40, Smax=200, M=500, N=1008).price()"
   ]
  },
  {
   "cell_type": "code",
   "execution_count": 70,
   "metadata": {},
   "outputs": [
    {
     "data": {
      "text/plain": [
       "0.7661484894137863"
      ]
     },
     "execution_count": 70,
     "metadata": {},
     "output_type": "execute_result"
    }
   ],
   "source": [
    "FDCnEu(41, K=52, r=0.04, T=0.5, sigma=0.3, Smax=200, M=500, N=1008).price()"
   ]
  },
  {
   "cell_type": "code",
   "execution_count": 71,
   "metadata": {},
   "outputs": [
    {
     "data": {
      "text/plain": [
       "1.2297043247782633"
      ]
     },
     "execution_count": 71,
     "metadata": {},
     "output_type": "execute_result"
    }
   ],
   "source": [
    "FDCnDo(44, 52, r=0.04, T=0.5, sigma=0.3, Sbarrier=40, Smax=200, M=500, N=1008).price()"
   ]
  },
  {
   "cell_type": "code",
   "execution_count": 72,
   "metadata": {},
   "outputs": [
    {
     "data": {
      "text/plain": [
       "1.4468621261308718"
      ]
     },
     "execution_count": 72,
     "metadata": {},
     "output_type": "execute_result"
    }
   ],
   "source": [
    "FDCnEu(44, K=52, r=0.04, T=0.5, sigma=0.3, Smax=200, M=500, N=1008).price()"
   ]
  },
  {
   "cell_type": "markdown",
   "metadata": {},
   "source": [
    "### FD CN modified for American Options"
   ]
  },
  {
   "cell_type": "code",
   "execution_count": 73,
   "metadata": {},
   "outputs": [],
   "source": [
    "import sys\n",
    "\n",
    "class FDCnAm(FDCnEu):\n",
    "\n",
    "    def __init__(self, S0, K, r=0.05, T=1, sigma=0, Smax=1, M=1, N=1, omega=1, tol=0, is_put=False):\n",
    "        super(FDCnAm, self).__init__(S0, K, r=r, T=T, sigma=sigma, Smax=Smax, M=M, N=N, is_put=is_put)\n",
    "        self.omega = omega\n",
    "        self.tol = tol\n",
    "        self.i_values = np.arange(self.M+1)\n",
    "        self.j_values = np.arange(self.N+1)\n",
    "\n",
    "    def setup_boundary_conditions(self):\n",
    "        if self.is_call:\n",
    "            self.payoffs = np.maximum(0, self.boundary_conds[1:self.M]-self.K)\n",
    "        else:\n",
    "            self.payoffs = np.maximum(0, self.K-self.boundary_conds[1:self.M])\n",
    "\n",
    "        self.past_values = self.payoffs\n",
    "        self.boundary_values = self.K * np.exp(-self.r*self.dt*(self.N-self.j_values))\n",
    "        \n",
    "    def calculate_payoff_start_boundary(self, rhs, old_values):\n",
    "        payoff = old_values[0] + self.omega/(1-self.beta[1]) * (rhs[0] - (1-self.beta[1])*old_values[0] + self.gamma[1]*old_values[1])\n",
    "\n",
    "        return max(self.payoffs[0], payoff)      \n",
    "    \n",
    "    def calculate_payoff_end_boundary(self, rhs, old_values, new_values):\n",
    "        payoff = old_values[-1] + self.omega/(1-self.beta[-2]) * (rhs[-1] + self.alpha[-2]*new_values[-2] - (1-self.beta[-2])*old_values[-1])\n",
    "\n",
    "        return max(self.payoffs[-1], payoff)\n",
    "    \n",
    "    def calculate_payoff(self, k, rhs, old_values, new_values):\n",
    "        payoff = old_values[k] + self.omega/(1-self.beta[k+1]) * (rhs[k] + self.alpha[k+1]*new_values[k-1] - (1-self.beta[k+1])*old_values[k] + self.gamma[k+1]*old_values[k+1])\n",
    "\n",
    "        return max(self.payoffs[k], payoff)\n",
    "\n",
    "    def traverse_grid(self):\n",
    "        aux = np.zeros(self.M-1)\n",
    "        new_values = np.zeros(self.M-1)\n",
    "\n",
    "        for j in reversed(range(self.N)):\n",
    "            aux[0] = self.alpha[1]*(self.boundary_values[j] + self.boundary_values[j+1])\n",
    "            rhs = np.dot(self.M2, self.past_values) + aux\n",
    "            old_values = np.copy(self.past_values)\n",
    "            error = sys.float_info.max\n",
    "\n",
    "            while self.tol < error:\n",
    "                new_values[0] = self.calculate_payoff_start_boundary(rhs, old_values)            \n",
    "\n",
    "                for k in range(self.M-2)[1:]:\n",
    "                    new_values[k] = self.calculate_payoff(k, rhs, old_values, new_values)                    \n",
    "\n",
    "                new_values[-1] = self.calculate_payoff_end_boundary(rhs, old_values, new_values)\n",
    "\n",
    "                error = np.linalg.norm(new_values-old_values)\n",
    "                old_values = np.copy(new_values)\n",
    "\n",
    "                self.past_values = np.copy(new_values)\n",
    "\n",
    "        self.values = np.concatenate(([self.boundary_values[0]], new_values, [0]))\n",
    "\n",
    "    def interpolate(self):\n",
    "        # Use linear interpolation on final values as 1D array\n",
    "        return np.interp(self.S0, self.boundary_conds, self.values)"
   ]
  },
  {
   "cell_type": "code",
   "execution_count": 74,
   "metadata": {},
   "outputs": [],
   "source": [
    "rows_list = []\n",
    "for price in prices:\n",
    "    row = {}\n",
    "    row['price'] = price\n",
    "    row[col] = FDCnAm(price, 52, r=0.04, T=0.5, Smax=200, omega=1.2, tol=0.001, sigma=1, N=1008, M=500).price()\n",
    "    \n",
    "    rows_list.append(row)\n",
    "        \n",
    "        \n",
    "opt_prices_fdcnam = pd.DataFrame(rows_list)"
   ]
  },
  {
   "cell_type": "code",
   "execution_count": 75,
   "metadata": {},
   "outputs": [
    {
     "data": {
      "text/html": [
       "<div>\n",
       "<style scoped>\n",
       "    .dataframe tbody tr th:only-of-type {\n",
       "        vertical-align: middle;\n",
       "    }\n",
       "\n",
       "    .dataframe tbody tr th {\n",
       "        vertical-align: top;\n",
       "    }\n",
       "\n",
       "    .dataframe thead th {\n",
       "        text-align: right;\n",
       "    }\n",
       "</style>\n",
       "<table border=\"1\" class=\"dataframe\">\n",
       "  <thead>\n",
       "    <tr style=\"text-align: right;\">\n",
       "      <th></th>\n",
       "      <th>price</th>\n",
       "      <th>90</th>\n",
       "    </tr>\n",
       "  </thead>\n",
       "  <tbody>\n",
       "    <tr>\n",
       "      <th>0</th>\n",
       "      <td>10</td>\n",
       "      <td>0.055278</td>\n",
       "    </tr>\n",
       "    <tr>\n",
       "      <th>1</th>\n",
       "      <td>30</td>\n",
       "      <td>3.492209</td>\n",
       "    </tr>\n",
       "    <tr>\n",
       "      <th>2</th>\n",
       "      <td>50</td>\n",
       "      <td>13.424430</td>\n",
       "    </tr>\n",
       "    <tr>\n",
       "      <th>3</th>\n",
       "      <td>70</td>\n",
       "      <td>27.673480</td>\n",
       "    </tr>\n",
       "    <tr>\n",
       "      <th>4</th>\n",
       "      <td>90</td>\n",
       "      <td>44.283654</td>\n",
       "    </tr>\n",
       "  </tbody>\n",
       "</table>\n",
       "</div>"
      ],
      "text/plain": [
       "   price         90\n",
       "0     10   0.055278\n",
       "1     30   3.492209\n",
       "2     50  13.424430\n",
       "3     70  27.673480\n",
       "4     90  44.283654"
      ]
     },
     "execution_count": 75,
     "metadata": {},
     "output_type": "execute_result"
    }
   ],
   "source": [
    "opt_prices_fdcnam"
   ]
  },
  {
   "cell_type": "code",
   "execution_count": 76,
   "metadata": {},
   "outputs": [],
   "source": [
    "rows_list = []\n",
    "for price in prices:\n",
    "    row = {}\n",
    "    row['price'] = price\n",
    "    row[col] = FDCnAm(price, 52, r=0.04, T=0.5, Smax=200, omega=1.2, tol=0.001, sigma=1, N=1008, M=500, is_put=True).price()\n",
    "    \n",
    "    rows_list.append(row)\n",
    "        \n",
    "        \n",
    "opt_prices_fdcnam_put = pd.DataFrame(rows_list)"
   ]
  },
  {
   "cell_type": "code",
   "execution_count": 77,
   "metadata": {},
   "outputs": [
    {
     "data": {
      "text/html": [
       "<div>\n",
       "<style scoped>\n",
       "    .dataframe tbody tr th:only-of-type {\n",
       "        vertical-align: middle;\n",
       "    }\n",
       "\n",
       "    .dataframe tbody tr th {\n",
       "        vertical-align: top;\n",
       "    }\n",
       "\n",
       "    .dataframe thead th {\n",
       "        text-align: right;\n",
       "    }\n",
       "</style>\n",
       "<table border=\"1\" class=\"dataframe\">\n",
       "  <thead>\n",
       "    <tr style=\"text-align: right;\">\n",
       "      <th></th>\n",
       "      <th>price</th>\n",
       "      <th>90</th>\n",
       "    </tr>\n",
       "  </thead>\n",
       "  <tbody>\n",
       "    <tr>\n",
       "      <th>0</th>\n",
       "      <td>10</td>\n",
       "      <td>42.000000</td>\n",
       "    </tr>\n",
       "    <tr>\n",
       "      <th>1</th>\n",
       "      <td>30</td>\n",
       "      <td>24.738905</td>\n",
       "    </tr>\n",
       "    <tr>\n",
       "      <th>2</th>\n",
       "      <td>50</td>\n",
       "      <td>14.510432</td>\n",
       "    </tr>\n",
       "    <tr>\n",
       "      <th>3</th>\n",
       "      <td>70</td>\n",
       "      <td>8.728305</td>\n",
       "    </tr>\n",
       "    <tr>\n",
       "      <th>4</th>\n",
       "      <td>90</td>\n",
       "      <td>5.368146</td>\n",
       "    </tr>\n",
       "  </tbody>\n",
       "</table>\n",
       "</div>"
      ],
      "text/plain": [
       "   price         90\n",
       "0     10  42.000000\n",
       "1     30  24.738905\n",
       "2     50  14.510432\n",
       "3     70   8.728305\n",
       "4     90   5.368146"
      ]
     },
     "execution_count": 77,
     "metadata": {},
     "output_type": "execute_result"
    }
   ],
   "source": [
    "opt_prices_fdcnam_put"
   ]
  },
  {
   "cell_type": "markdown",
   "metadata": {},
   "source": [
    "# Implied Volatility"
   ]
  },
  {
   "cell_type": "code",
   "execution_count": 78,
   "metadata": {},
   "outputs": [],
   "source": [
    "class ImpliedVolatilityModel(object):\n",
    "\n",
    "    def __init__(self, s_0, r=0.05, T=1, div=0, N=1, is_put=False):\n",
    "        self.s_0 = s_0\n",
    "        self.r = r\n",
    "        self.T = T\n",
    "        self.div = div\n",
    "        self.N = N\n",
    "        self.is_put = is_put\n",
    "\n",
    "    def option_valuation(self, K, sigma):\n",
    "        lr_option = BinomialLROption(self.s_0, K, r=self.r, T=self.T, N=self.N, sigma=sigma, div=self.div, is_put=self.is_put)\n",
    "        return lr_option.price()\n",
    "\n",
    "    def get_implied_volatilities(self, Ks, opt_prices):\n",
    "        impvols = []\n",
    "        for i in range(len(strikes)):\n",
    "            f = lambda sigma: self.option_valuation(Ks[i], sigma)- opt_prices[i]\n",
    "            impv = bisection(f, 0.01, 0.99, 0.0001, 100)[0]\n",
    "            impvols.append(impv)\n",
    "\n",
    "        return impvols"
   ]
  },
  {
   "cell_type": "code",
   "execution_count": 79,
   "metadata": {},
   "outputs": [],
   "source": [
    "def bisection(f, a, b, tol=0.1, maxiter=100):\n",
    "    c = (a+b)*0.5 \n",
    "    n = 1 \n",
    "    while n <= maxiter:\n",
    "        c = (a+b)*0.5\n",
    "        if f(c) == 0 or abs(a-b)*0.5 < tol:\n",
    "            return c, n\n",
    "\n",
    "        n += 1\n",
    "        if f(c) < 0:\n",
    "            a = c\n",
    "        else:\n",
    "            b = c\n",
    "                \n",
    "    return c, n"
   ]
  },
  {
   "cell_type": "code",
   "execution_count": 80,
   "metadata": {
    "scrolled": true
   },
   "outputs": [],
   "source": [
    "import pandas as pd\n",
    "df = pd.read_csv(\"https://raw.githubusercontent.com/ZachNJIT/data/main/spy_options.csv\")"
   ]
  },
  {
   "cell_type": "code",
   "execution_count": 81,
   "metadata": {},
   "outputs": [],
   "source": [
    "cols = []\n",
    "for col in df.columns:\n",
    "    col = col.strip()\n",
    "    cols.append(col)"
   ]
  },
  {
   "cell_type": "code",
   "execution_count": 82,
   "metadata": {},
   "outputs": [
    {
     "data": {
      "text/plain": [
       "array(['2015-01-05'], dtype=object)"
      ]
     },
     "execution_count": 82,
     "metadata": {},
     "output_type": "execute_result"
    }
   ],
   "source": [
    "df['date'].unique()"
   ]
  },
  {
   "cell_type": "code",
   "execution_count": 83,
   "metadata": {},
   "outputs": [
    {
     "data": {
      "text/plain": [
       "['date',\n",
       " 'symbol',\n",
       " 'under',\n",
       " 'expiration',\n",
       " 'strike',\n",
       " 'put/call',\n",
       " 'bid',\n",
       " 'ask',\n",
       " 'price',\n",
       " 'volume',\n",
       " 'open interest',\n",
       " 'implied vol',\n",
       " 'delta',\n",
       " 'gamma',\n",
       " 'rho',\n",
       " 'theta',\n",
       " 'vega',\n",
       " 'nonstd']"
      ]
     },
     "execution_count": 83,
     "metadata": {},
     "output_type": "execute_result"
    }
   ],
   "source": [
    "df.columns = cols\n",
    "cols"
   ]
  },
  {
   "cell_type": "code",
   "execution_count": 84,
   "metadata": {},
   "outputs": [
    {
     "data": {
      "text/plain": [
       "array(['2015-01-02', '2015-01-09', '2015-01-17', '2015-01-23',\n",
       "       '2015-01-30', '2015-02-06', '2015-02-13', '2015-02-20',\n",
       "       '2015-03-20', '2015-03-31', '2015-04-17', '2015-06-19',\n",
       "       '2015-06-30', '2015-09-18', '2015-09-30', '2015-12-19',\n",
       "       '2015-12-31', '2016-01-15', '2016-03-18', '2016-06-17',\n",
       "       '2016-09-16', '2016-12-16', '2017-01-20', '2017-12-15'],\n",
       "      dtype=object)"
      ]
     },
     "execution_count": 84,
     "metadata": {},
     "output_type": "execute_result"
    }
   ],
   "source": [
    "df['expiration'].unique()"
   ]
  },
  {
   "cell_type": "code",
   "execution_count": 85,
   "metadata": {},
   "outputs": [],
   "source": [
    "T_3 = df[df['expiration']=='2015-04-17']"
   ]
  },
  {
   "cell_type": "code",
   "execution_count": 86,
   "metadata": {},
   "outputs": [],
   "source": [
    "T3P = T_3[T_3['put/call']=='P']"
   ]
  },
  {
   "cell_type": "code",
   "execution_count": 87,
   "metadata": {},
   "outputs": [],
   "source": [
    "T3P = T3P[T3P['price']>0]"
   ]
  },
  {
   "cell_type": "code",
   "execution_count": 88,
   "metadata": {},
   "outputs": [],
   "source": [
    "strikes = T3P['strike'].tolist()"
   ]
  },
  {
   "cell_type": "code",
   "execution_count": 89,
   "metadata": {},
   "outputs": [],
   "source": [
    "put_prices = T3P['price'].tolist()"
   ]
  },
  {
   "cell_type": "code",
   "execution_count": 90,
   "metadata": {},
   "outputs": [
    {
     "data": {
      "image/png": "[encoded data removed]",
      "text/plain": [
       "<Figure size 720x720 with 1 Axes>"
      ]
     },
     "metadata": {
      "needs_background": "light"
     },
     "output_type": "display_data"
    }
   ],
   "source": [
    "%matplotlib inline\n",
    "import matplotlib.pyplot as plt\n",
    "from matplotlib.pyplot import figure\n",
    "\n",
    "figure(figsize=(10,10))\n",
    "plt.plot(strikes, put_prices)\n",
    "plt.xlabel('Strike Prices')\n",
    "plt.ylabel('Put Prices')\n",
    "plt.title('SPY Put Prices')\n",
    "plt.show()"
   ]
  },
  {
   "cell_type": "code",
   "execution_count": 91,
   "metadata": {},
   "outputs": [],
   "source": [
    "S0 = 195\n",
    "model = ImpliedVolatilityModel(S0, r=0.02, T=78/365., N=77, is_put=True)\n",
    "impvols_put = model.get_implied_volatilities(strikes, put_prices)"
   ]
  },
  {
   "cell_type": "code",
   "execution_count": 92,
   "metadata": {},
   "outputs": [
    {
     "data": {
      "image/png": "[encoded data removed]",
      "text/plain": [
       "<Figure size 720x720 with 1 Axes>"
      ]
     },
     "metadata": {
      "needs_background": "light"
     },
     "output_type": "display_data"
    }
   ],
   "source": [
    "%matplotlib inline\n",
    "import matplotlib.pyplot as plt\n",
    "\n",
    "figure(figsize=(10,10))\n",
    "plt.plot(strikes, impvols_put)\n",
    "plt.xlabel('Strike Prices')\n",
    "plt.ylabel('Implied Volatilities')\n",
    "plt.title(f'SPY Put Implied Volatilities expiring in 78 days with S0={S0}')\n",
    "plt.savefig(\"putsm.png\")\n",
    "plt.show()"
   ]
  },
  {
   "cell_type": "code",
   "execution_count": null,
   "metadata": {},
   "outputs": [],
   "source": []
  },
  {
   "cell_type": "code",
   "execution_count": null,
   "metadata": {},
   "outputs": [],
   "source": []
  }
 ],
 "metadata": {
  "kernelspec": {
   "display_name": "Python 3",
   "language": "python",
   "name": "python3"
  },
  "language_info": {
   "codemirror_mode": {
    "name": "ipython",
    "version": 3
   },
   "file_extension": ".py",
   "mimetype": "text/x-python",
   "name": "python",
   "nbconvert_exporter": "python",
   "pygments_lexer": "ipython3",
   "version": "3.8.3"
  }
 },
 "nbformat": 4,
 "nbformat_minor": 2
}
